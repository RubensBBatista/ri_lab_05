{
 "cells": [
  {
   "cell_type": "markdown",
   "metadata": {
    "colab_type": "text",
    "id": "view-in-github"
   },
   "source": [
    "<a href=\"https://colab.research.google.com/github/adautofbn/ri_labs/blob/master/lab05/expansao_consulta.ipynb\" target=\"_parent\"><img src=\"https://colab.research.google.com/assets/colab-badge.svg\" alt=\"Open In Colab\"/></a>"
   ]
  },
  {
   "cell_type": "code",
   "execution_count": 1,
   "metadata": {
    "colab": {
     "base_uri": "https://localhost:8080/",
     "height": 51
    },
    "colab_type": "code",
    "id": "XuY1pp7Qp-tE",
    "outputId": "efe3ab5d-bcf4-4d98-e2d1-decd65c01593"
   },
   "outputs": [
    {
     "name": "stderr",
     "output_type": "stream",
     "text": [
      "[nltk_data] Downloading package stopwords to\n",
      "[nltk_data]     C:\\Users\\rubens.sousa\\AppData\\Roaming\\nltk_data...\n",
      "[nltk_data]   Package stopwords is already up-to-date!\n"
     ]
    }
   ],
   "source": [
    "import pandas as pnd\n",
    "import numpy as npy\n",
    "import nltk\n",
    "import re\n",
    "import collections\n",
    "import heapq\n",
    "import time\n",
    "import bisect\n",
    "import math\n",
    "import random\n",
    "from nltk.tokenize import RegexpTokenizer\n",
    "\n",
    "nltk.download('stopwords')\n",
    "resultado = pnd.read_csv(\"results.csv\")"
   ]
  },
  {
   "cell_type": "code",
   "execution_count": 2,
   "metadata": {
    "colab": {},
    "colab_type": "code",
    "id": "MOSw37nUKtCI"
   },
   "outputs": [],
   "source": [
    "tokenizer = RegexpTokenizer(r'([A-Za-zÁáÉéÍíÓóÚúÃãÕõÇçÂâÊê]{3,27})')\n",
    "stopwords = nltk.corpus.stopwords.words('portuguese') \n",
    "n = 0\n",
    "rank = {}\n",
    "\n",
    "for texto in resultado.text:\n",
    "  palavras = [palavra for palavra in tokenizer.tokenize(texto.lower())\n",
    "           if not bool(re.search(r'\\d', palavra)) and palavra not in stopwords and len(palavra) >= 3]  \n",
    "  n += 1\n",
    "  for t in palavras:\n",
    "    if t not in rank.keys():\n",
    "      rank[t] = []\n",
    "    rank[t].append(n)\n",
    "    \n",
    "for elemento in rank.items():\n",
    "  d = dict(collections.Counter(elemento[1]))\n",
    "  rank[elemento[0]] = list(d.items())\n",
    "  "
   ]
  },
  {
   "cell_type": "code",
   "execution_count": 3,
   "metadata": {
    "colab": {},
    "colab_type": "code",
    "id": "qYKrGnagt-o2"
   },
   "outputs": [],
   "source": [
    "consultas = [\"presidente\", \"governo\", \"país\", \"pessoas\", \"mulheres\"]"
   ]
  },
  {
   "cell_type": "markdown",
   "metadata": {
    "colab_type": "text",
    "id": "y3YVhyLTugJM"
   },
   "source": [
    "### 1. Calcule as top-10 palavras mais associadas a cada uma dessas 5 palavras de acordo com as 4 métricas que vimos na aula. Você deve produzir uma tabela similar à tabela 6.3 do capítulo 6 do livro texto (pág. 204). Qual métrica você acha que obteve os melhores resultados? Por que?"
   ]
  },
  {
   "cell_type": "code",
   "execution_count": 4,
   "metadata": {
    "colab": {},
    "colab_type": "code",
    "id": "V_MpIn1pEjEX"
   },
   "outputs": [],
   "source": [
    "def n_documentos_ambas(a, b):\n",
    "  documentos_a = [documentos for documentos,score in rank[a]]\n",
    "  documentos_b = [documentos for documentos,score in rank[b]]\n",
    "  n = 0\n",
    "  \n",
    "  for documentos in documentos_a:\n",
    "    if documentos in documentos_b:\n",
    "      n += 1\n",
    "      \n",
    "  return n\n",
    "  \n",
    "def n_documentos_palavra(palavra):\n",
    "  return len(rank[palavra])\n",
    "  \n",
    "def n_documentos():\n",
    "  return resultado.text.count()"
   ]
  },
  {
   "cell_type": "code",
   "execution_count": 5,
   "metadata": {
    "colab": {},
    "colab_type": "code",
    "id": "TW7-5fxy53am"
   },
   "outputs": [],
   "source": [
    "def calcula_EMIM(a, b):\n",
    "  n_a = n_documentos_palavra(a)\n",
    "  n_b = n_documentos_palavra(b)\n",
    "  n_ab = n_documentos_ambas(a, b)\n",
    "  n = n_documentos()\n",
    "  exp = n * (n_ab / (n_a * n_b))\n",
    "  emim = 0\n",
    "  if exp != 0:\n",
    "    emim = n_ab * npy.log(exp)\n",
    "  return (emim, b)\n",
    "  \n",
    "def calcula_X(a, b):\n",
    "  n_a = n_documentos_palavra(a)\n",
    "  n_b = n_documentos_palavra(b)\n",
    "  n_ab = n_documentos_ambas(a, b)\n",
    "  n = n_documentos()\n",
    "  x = (n_ab - (1 / n) * n_a * n_b) ** 2 / (n_a * n_b)\n",
    "  return (x,b)\n",
    "\n",
    "def calcula_MIM(a, b):\n",
    "  n_a = n_documentos_palavra(a)\n",
    "  n_b = n_documentos_palavra(b)\n",
    "  n_ab = n_documentos_ambas(a,b)\n",
    "  mim = n_ab / (n_a * n_b)\n",
    "  return (mim,b)\n",
    "  \n",
    "def calcula_DICE(a, b):\n",
    "  n_a = n_documentos_palavra(a)\n",
    "  n_b = n_documentos_palavra(b)\n",
    "  n_ab = n_documentos_ambas(a, b)\n",
    "  dice = n_ab / (n_a + n_b)\n",
    "  return (dice,b)\n",
    "  "
   ]
  },
  {
   "cell_type": "code",
   "execution_count": 6,
   "metadata": {
    "colab": {},
    "colab_type": "code",
    "id": "zbY8hBJBujQN"
   },
   "outputs": [],
   "source": [
    "def cria_tabela_de_metricas(query):\n",
    "  tabela_top_10 = pnd.DataFrame()\n",
    "  MIM = []\n",
    "  EMIM = []\n",
    "  X = []\n",
    "  Dice = []\n",
    "  \n",
    "  for palavra in rank:\n",
    "    if palavra != query:\n",
    "      bisect.insort(MIM, calcula_MIM(query,palavra))\n",
    "      bisect.insort(EMIM,calcula_EMIM(query, palavra))\n",
    "      bisect.insort(X,calcula_X(query, palavra))\n",
    "      bisect.insort(Dice,calcula_DICE(query, palavra))\n",
    "\n",
    "  MIM.reverse()\n",
    "  EMIM.reverse()\n",
    "  X.reverse()\n",
    "  Dice.reverse()\n",
    "  \n",
    "  tabela_top_10['MIM'] = [palavra[1] for palavra in MIM]\n",
    "  tabela_top_10['EMIM'] = [palavra[1] for palavra in EMIM]\n",
    "  tabela_top_10['X²'] = [palavra[1] for palavra in X]\n",
    "  tabela_top_10['Dice'] = [palavra[1] for palavra in Dice]\n",
    "  \n",
    "  return tabela_top_10.head(10)"
   ]
  },
  {
   "cell_type": "code",
   "execution_count": 7,
   "metadata": {
    "colab": {},
    "colab_type": "code",
    "id": "axOJ34jiBL0A"
   },
   "outputs": [],
   "source": [
    "tabela_01 = cria_tabela_de_metricas(consultas[0])\n",
    "tabela_02 = cria_tabela_de_metricas(consultas[1])\n",
    "tabela_03 = cria_tabela_de_metricas(consultas[2])\n",
    "tabela_04 = cria_tabela_de_metricas(consultas[3])\n",
    "tabela_05 = cria_tabela_de_metricas(consultas[4])"
   ]
  },
  {
   "cell_type": "markdown",
   "metadata": {
    "colab_type": "text",
    "id": "ywIVJjE7Bufv"
   },
   "source": [
    "####Tabela para a consulta: 'presidente'"
   ]
  },
  {
   "cell_type": "code",
   "execution_count": 8,
   "metadata": {
    "colab": {
     "base_uri": "https://localhost:8080/",
     "height": 359
    },
    "colab_type": "code",
    "id": "S5idEpXTBWs3",
    "outputId": "e0eab71d-4b78-4c6f-c85c-4d5cd1c31984"
   },
   "outputs": [
    {
     "data": {
      "text/html": [
       "<div>\n",
       "<style scoped>\n",
       "    .dataframe tbody tr th:only-of-type {\n",
       "        vertical-align: middle;\n",
       "    }\n",
       "\n",
       "    .dataframe tbody tr th {\n",
       "        vertical-align: top;\n",
       "    }\n",
       "\n",
       "    .dataframe thead th {\n",
       "        text-align: right;\n",
       "    }\n",
       "</style>\n",
       "<table border=\"1\" class=\"dataframe\">\n",
       "  <thead>\n",
       "    <tr style=\"text-align: right;\">\n",
       "      <th></th>\n",
       "      <th>MIM</th>\n",
       "      <th>EMIM</th>\n",
       "      <th>X²</th>\n",
       "      <th>Dice</th>\n",
       "    </tr>\n",
       "  </thead>\n",
       "  <tbody>\n",
       "    <tr>\n",
       "      <th>1</th>\n",
       "      <td>útil</td>\n",
       "      <td>bolsonaro</td>\n",
       "      <td>técnicos</td>\n",
       "      <td>bolsonaro</td>\n",
       "    </tr>\n",
       "    <tr>\n",
       "      <th>2</th>\n",
       "      <td>úteis</td>\n",
       "      <td>disse</td>\n",
       "      <td>consumidor</td>\n",
       "      <td>disse</td>\n",
       "    </tr>\n",
       "    <tr>\n",
       "      <th>3</th>\n",
       "      <td>último</td>\n",
       "      <td>jair</td>\n",
       "      <td>agência</td>\n",
       "      <td>brasil</td>\n",
       "    </tr>\n",
       "    <tr>\n",
       "      <th>4</th>\n",
       "      <td>última</td>\n",
       "      <td>lula</td>\n",
       "      <td>vem</td>\n",
       "      <td>jair</td>\n",
       "    </tr>\n",
       "    <tr>\n",
       "      <th>5</th>\n",
       "      <td>ótimo</td>\n",
       "      <td>prisão</td>\n",
       "      <td>governos</td>\n",
       "      <td>governo</td>\n",
       "    </tr>\n",
       "    <tr>\n",
       "      <th>6</th>\n",
       "      <td>ótima</td>\n",
       "      <td>silva</td>\n",
       "      <td>repasse</td>\n",
       "      <td>feira</td>\n",
       "    </tr>\n",
       "    <tr>\n",
       "      <th>7</th>\n",
       "      <td>órgão</td>\n",
       "      <td>livre</td>\n",
       "      <td>necessários</td>\n",
       "      <td>nesta</td>\n",
       "    </tr>\n",
       "    <tr>\n",
       "      <th>8</th>\n",
       "      <td>ódio</td>\n",
       "      <td>dias</td>\n",
       "      <td>informa</td>\n",
       "      <td>contra</td>\n",
       "    </tr>\n",
       "    <tr>\n",
       "      <th>9</th>\n",
       "      <td>índios</td>\n",
       "      <td>inácio</td>\n",
       "      <td>funciona</td>\n",
       "      <td>ser</td>\n",
       "    </tr>\n",
       "    <tr>\n",
       "      <th>10</th>\n",
       "      <td>índio</td>\n",
       "      <td>república</td>\n",
       "      <td>famílias</td>\n",
       "      <td>sobre</td>\n",
       "    </tr>\n",
       "  </tbody>\n",
       "</table>\n",
       "</div>"
      ],
      "text/plain": [
       "       MIM       EMIM           X²       Dice\n",
       "1     útil  bolsonaro     técnicos  bolsonaro\n",
       "2    úteis      disse   consumidor      disse\n",
       "3   último       jair      agência     brasil\n",
       "4   última       lula          vem       jair\n",
       "5    ótimo     prisão     governos    governo\n",
       "6    ótima      silva      repasse      feira\n",
       "7    órgão      livre  necessários      nesta\n",
       "8     ódio       dias      informa     contra\n",
       "9   índios     inácio     funciona        ser\n",
       "10   índio  república     famílias      sobre"
      ]
     },
     "execution_count": 8,
     "metadata": {},
     "output_type": "execute_result"
    }
   ],
   "source": [
    "tabela_01.index += 1\n",
    "tabela_01"
   ]
  },
  {
   "cell_type": "markdown",
   "metadata": {
    "colab_type": "text",
    "id": "McpHTjVVB5xA"
   },
   "source": [
    "####Tabela para a consulta: 'governo'"
   ]
  },
  {
   "cell_type": "code",
   "execution_count": 9,
   "metadata": {
    "colab": {
     "base_uri": "https://localhost:8080/",
     "height": 359
    },
    "colab_type": "code",
    "id": "bArFMpg6BYnC",
    "outputId": "44da9421-b5ab-44e0-9b85-a9a06de337e2"
   },
   "outputs": [
    {
     "data": {
      "text/html": [
       "<div>\n",
       "<style scoped>\n",
       "    .dataframe tbody tr th:only-of-type {\n",
       "        vertical-align: middle;\n",
       "    }\n",
       "\n",
       "    .dataframe tbody tr th {\n",
       "        vertical-align: top;\n",
       "    }\n",
       "\n",
       "    .dataframe thead th {\n",
       "        text-align: right;\n",
       "    }\n",
       "</style>\n",
       "<table border=\"1\" class=\"dataframe\">\n",
       "  <thead>\n",
       "    <tr style=\"text-align: right;\">\n",
       "      <th></th>\n",
       "      <th>MIM</th>\n",
       "      <th>EMIM</th>\n",
       "      <th>X²</th>\n",
       "      <th>Dice</th>\n",
       "    </tr>\n",
       "  </thead>\n",
       "  <tbody>\n",
       "    <tr>\n",
       "      <th>1</th>\n",
       "      <td>única</td>\n",
       "      <td>bolsonaro</td>\n",
       "      <td>sendo</td>\n",
       "      <td>bolsonaro</td>\n",
       "    </tr>\n",
       "    <tr>\n",
       "      <th>2</th>\n",
       "      <td>último</td>\n",
       "      <td>afirmou</td>\n",
       "      <td>lado</td>\n",
       "      <td>presidente</td>\n",
       "    </tr>\n",
       "    <tr>\n",
       "      <th>3</th>\n",
       "      <td>ótimo</td>\n",
       "      <td>ainda</td>\n",
       "      <td>desenvolvimento</td>\n",
       "      <td>brasil</td>\n",
       "    </tr>\n",
       "    <tr>\n",
       "      <th>4</th>\n",
       "      <td>ótima</td>\n",
       "      <td>sendo</td>\n",
       "      <td>vou</td>\n",
       "      <td>jair</td>\n",
       "    </tr>\n",
       "    <tr>\n",
       "      <th>5</th>\n",
       "      <td>órgão</td>\n",
       "      <td>lado</td>\n",
       "      <td>chefe</td>\n",
       "      <td>disse</td>\n",
       "    </tr>\n",
       "    <tr>\n",
       "      <th>6</th>\n",
       "      <td>índios</td>\n",
       "      <td>jair</td>\n",
       "      <td>povo</td>\n",
       "      <td>afirmou</td>\n",
       "    </tr>\n",
       "    <tr>\n",
       "      <th>7</th>\n",
       "      <td>étnica</td>\n",
       "      <td>povo</td>\n",
       "      <td>sim</td>\n",
       "      <td>paulo</td>\n",
       "    </tr>\n",
       "    <tr>\n",
       "      <th>8</th>\n",
       "      <td>ética</td>\n",
       "      <td>paulo</td>\n",
       "      <td>ainda</td>\n",
       "      <td>ainda</td>\n",
       "    </tr>\n",
       "    <tr>\n",
       "      <th>9</th>\n",
       "      <td>época</td>\n",
       "      <td>país</td>\n",
       "      <td>secretário</td>\n",
       "      <td>país</td>\n",
       "    </tr>\n",
       "    <tr>\n",
       "      <th>10</th>\n",
       "      <td>ânimo</td>\n",
       "      <td>vai</td>\n",
       "      <td>publicada</td>\n",
       "      <td>ser</td>\n",
       "    </tr>\n",
       "  </tbody>\n",
       "</table>\n",
       "</div>"
      ],
      "text/plain": [
       "       MIM       EMIM               X²        Dice\n",
       "1    única  bolsonaro            sendo   bolsonaro\n",
       "2   último    afirmou             lado  presidente\n",
       "3    ótimo      ainda  desenvolvimento      brasil\n",
       "4    ótima      sendo              vou        jair\n",
       "5    órgão       lado            chefe       disse\n",
       "6   índios       jair             povo     afirmou\n",
       "7   étnica       povo              sim       paulo\n",
       "8    ética      paulo            ainda       ainda\n",
       "9    época       país       secretário        país\n",
       "10   ânimo        vai        publicada         ser"
      ]
     },
     "execution_count": 9,
     "metadata": {},
     "output_type": "execute_result"
    }
   ],
   "source": [
    "tabela_02.index += 1\n",
    "tabela_02"
   ]
  },
  {
   "cell_type": "markdown",
   "metadata": {
    "colab_type": "text",
    "id": "09vbHGYoCGMd"
   },
   "source": [
    "####Tabela para a consulta: 'país'"
   ]
  },
  {
   "cell_type": "code",
   "execution_count": 10,
   "metadata": {
    "colab": {
     "base_uri": "https://localhost:8080/",
     "height": 359
    },
    "colab_type": "code",
    "id": "NgPb85EqBaeT",
    "outputId": "8e7d1864-c063-448b-b5e6-2e3292eb05e0"
   },
   "outputs": [
    {
     "data": {
      "text/html": [
       "<div>\n",
       "<style scoped>\n",
       "    .dataframe tbody tr th:only-of-type {\n",
       "        vertical-align: middle;\n",
       "    }\n",
       "\n",
       "    .dataframe tbody tr th {\n",
       "        vertical-align: top;\n",
       "    }\n",
       "\n",
       "    .dataframe thead th {\n",
       "        text-align: right;\n",
       "    }\n",
       "</style>\n",
       "<table border=\"1\" class=\"dataframe\">\n",
       "  <thead>\n",
       "    <tr style=\"text-align: right;\">\n",
       "      <th></th>\n",
       "      <th>MIM</th>\n",
       "      <th>EMIM</th>\n",
       "      <th>X²</th>\n",
       "      <th>Dice</th>\n",
       "    </tr>\n",
       "  </thead>\n",
       "  <tbody>\n",
       "    <tr>\n",
       "      <th>1</th>\n",
       "      <td>útil</td>\n",
       "      <td>brasil</td>\n",
       "      <td>setor</td>\n",
       "      <td>brasil</td>\n",
       "    </tr>\n",
       "    <tr>\n",
       "      <th>2</th>\n",
       "      <td>étnicas</td>\n",
       "      <td>mundo</td>\n",
       "      <td>méxico</td>\n",
       "      <td>governo</td>\n",
       "    </tr>\n",
       "    <tr>\n",
       "      <th>3</th>\n",
       "      <td>ética</td>\n",
       "      <td>países</td>\n",
       "      <td>ato</td>\n",
       "      <td>nacional</td>\n",
       "    </tr>\n",
       "    <tr>\n",
       "      <th>4</th>\n",
       "      <td>árbitro</td>\n",
       "      <td>nacional</td>\n",
       "      <td>saída</td>\n",
       "      <td>paulo</td>\n",
       "    </tr>\n",
       "    <tr>\n",
       "      <th>5</th>\n",
       "      <td>álvaro</td>\n",
       "      <td>setor</td>\n",
       "      <td>importância</td>\n",
       "      <td>mundo</td>\n",
       "    </tr>\n",
       "    <tr>\n",
       "      <th>6</th>\n",
       "      <td>álcool</td>\n",
       "      <td>grande</td>\n",
       "      <td>declarou</td>\n",
       "      <td>grande</td>\n",
       "    </tr>\n",
       "    <tr>\n",
       "      <th>7</th>\n",
       "      <td>áfrica</td>\n",
       "      <td>ato</td>\n",
       "      <td>mundo</td>\n",
       "      <td>pessoas</td>\n",
       "    </tr>\n",
       "    <tr>\n",
       "      <th>8</th>\n",
       "      <td>zelândia</td>\n",
       "      <td>fernando</td>\n",
       "      <td>visita</td>\n",
       "      <td>bolsonaro</td>\n",
       "    </tr>\n",
       "    <tr>\n",
       "      <th>9</th>\n",
       "      <td>yeend</td>\n",
       "      <td>eua</td>\n",
       "      <td>oposição</td>\n",
       "      <td>países</td>\n",
       "    </tr>\n",
       "    <tr>\n",
       "      <th>10</th>\n",
       "      <td>yad</td>\n",
       "      <td>méxico</td>\n",
       "      <td>países</td>\n",
       "      <td>afirmou</td>\n",
       "    </tr>\n",
       "  </tbody>\n",
       "</table>\n",
       "</div>"
      ],
      "text/plain": [
       "         MIM      EMIM           X²       Dice\n",
       "1       útil    brasil        setor     brasil\n",
       "2    étnicas     mundo       méxico    governo\n",
       "3      ética    países          ato   nacional\n",
       "4    árbitro  nacional        saída      paulo\n",
       "5     álvaro     setor  importância      mundo\n",
       "6     álcool    grande     declarou     grande\n",
       "7     áfrica       ato        mundo    pessoas\n",
       "8   zelândia  fernando       visita  bolsonaro\n",
       "9      yeend       eua     oposição     países\n",
       "10       yad    méxico       países    afirmou"
      ]
     },
     "execution_count": 10,
     "metadata": {},
     "output_type": "execute_result"
    }
   ],
   "source": [
    "tabela_03.index += 1\n",
    "tabela_03"
   ]
  },
  {
   "cell_type": "markdown",
   "metadata": {
    "colab_type": "text",
    "id": "vFlUTQuPCL1A"
   },
   "source": [
    "####Tabela para a consulta: 'pessoas'"
   ]
  },
  {
   "cell_type": "code",
   "execution_count": 11,
   "metadata": {
    "colab": {
     "base_uri": "https://localhost:8080/",
     "height": 359
    },
    "colab_type": "code",
    "id": "qfdW2uUCBbKl",
    "outputId": "2f4f7313-8280-47c2-db6c-ab9733bcecdf"
   },
   "outputs": [
    {
     "data": {
      "text/html": [
       "<div>\n",
       "<style scoped>\n",
       "    .dataframe tbody tr th:only-of-type {\n",
       "        vertical-align: middle;\n",
       "    }\n",
       "\n",
       "    .dataframe tbody tr th {\n",
       "        vertical-align: top;\n",
       "    }\n",
       "\n",
       "    .dataframe thead th {\n",
       "        text-align: right;\n",
       "    }\n",
       "</style>\n",
       "<table border=\"1\" class=\"dataframe\">\n",
       "  <thead>\n",
       "    <tr style=\"text-align: right;\">\n",
       "      <th></th>\n",
       "      <th>MIM</th>\n",
       "      <th>EMIM</th>\n",
       "      <th>X²</th>\n",
       "      <th>Dice</th>\n",
       "    </tr>\n",
       "  </thead>\n",
       "  <tbody>\n",
       "    <tr>\n",
       "      <th>1</th>\n",
       "      <td>ótimo</td>\n",
       "      <td>então</td>\n",
       "      <td>então</td>\n",
       "      <td>então</td>\n",
       "    </tr>\n",
       "    <tr>\n",
       "      <th>2</th>\n",
       "      <td>ótima</td>\n",
       "      <td>todo</td>\n",
       "      <td>seguinte</td>\n",
       "      <td>país</td>\n",
       "    </tr>\n",
       "    <tr>\n",
       "      <th>3</th>\n",
       "      <td>ídolo</td>\n",
       "      <td>deputado</td>\n",
       "      <td>facebook</td>\n",
       "      <td>paulo</td>\n",
       "    </tr>\n",
       "    <tr>\n",
       "      <th>4</th>\n",
       "      <td>étnica</td>\n",
       "      <td>país</td>\n",
       "      <td>veio</td>\n",
       "      <td>todo</td>\n",
       "    </tr>\n",
       "    <tr>\n",
       "      <th>5</th>\n",
       "      <td>ética</td>\n",
       "      <td>antes</td>\n",
       "      <td>retorno</td>\n",
       "      <td>deputado</td>\n",
       "    </tr>\n",
       "    <tr>\n",
       "      <th>6</th>\n",
       "      <td>ânimos</td>\n",
       "      <td>seguinte</td>\n",
       "      <td>procurando</td>\n",
       "      <td>federal</td>\n",
       "    </tr>\n",
       "    <tr>\n",
       "      <th>7</th>\n",
       "      <td>âmago</td>\n",
       "      <td>facebook</td>\n",
       "      <td>parece</td>\n",
       "      <td>dias</td>\n",
       "    </tr>\n",
       "    <tr>\n",
       "      <th>8</th>\n",
       "      <td>árbitro</td>\n",
       "      <td>realidade</td>\n",
       "      <td>hora</td>\n",
       "      <td>disse</td>\n",
       "    </tr>\n",
       "    <tr>\n",
       "      <th>9</th>\n",
       "      <td>álvaro</td>\n",
       "      <td>dentro</td>\n",
       "      <td>homens</td>\n",
       "      <td>onde</td>\n",
       "    </tr>\n",
       "    <tr>\n",
       "      <th>10</th>\n",
       "      <td>álcool</td>\n",
       "      <td>sempre</td>\n",
       "      <td>escrito</td>\n",
       "      <td>apenas</td>\n",
       "    </tr>\n",
       "  </tbody>\n",
       "</table>\n",
       "</div>"
      ],
      "text/plain": [
       "        MIM       EMIM          X²      Dice\n",
       "1     ótimo      então       então     então\n",
       "2     ótima       todo    seguinte      país\n",
       "3     ídolo   deputado    facebook     paulo\n",
       "4    étnica       país        veio      todo\n",
       "5     ética      antes     retorno  deputado\n",
       "6    ânimos   seguinte  procurando   federal\n",
       "7     âmago   facebook      parece      dias\n",
       "8   árbitro  realidade        hora     disse\n",
       "9    álvaro     dentro      homens      onde\n",
       "10   álcool     sempre     escrito    apenas"
      ]
     },
     "execution_count": 11,
     "metadata": {},
     "output_type": "execute_result"
    }
   ],
   "source": [
    "tabela_04.index += 1\n",
    "tabela_04"
   ]
  },
  {
   "cell_type": "markdown",
   "metadata": {
    "colab_type": "text",
    "id": "80B4zI8HCPOG"
   },
   "source": [
    "####Tabela para a consulta: 'mulheres'"
   ]
  },
  {
   "cell_type": "code",
   "execution_count": 12,
   "metadata": {
    "colab": {
     "base_uri": "https://localhost:8080/",
     "height": 359
    },
    "colab_type": "code",
    "id": "0zLCM44RBb9z",
    "outputId": "e9789c85-195c-4e38-bceb-7d145ecace1f"
   },
   "outputs": [
    {
     "data": {
      "text/html": [
       "<div>\n",
       "<style scoped>\n",
       "    .dataframe tbody tr th:only-of-type {\n",
       "        vertical-align: middle;\n",
       "    }\n",
       "\n",
       "    .dataframe tbody tr th {\n",
       "        vertical-align: top;\n",
       "    }\n",
       "\n",
       "    .dataframe thead th {\n",
       "        text-align: right;\n",
       "    }\n",
       "</style>\n",
       "<table border=\"1\" class=\"dataframe\">\n",
       "  <thead>\n",
       "    <tr style=\"text-align: right;\">\n",
       "      <th></th>\n",
       "      <th>MIM</th>\n",
       "      <th>EMIM</th>\n",
       "      <th>X²</th>\n",
       "      <th>Dice</th>\n",
       "    </tr>\n",
       "  </thead>\n",
       "  <tbody>\n",
       "    <tr>\n",
       "      <th>1</th>\n",
       "      <td>volume</td>\n",
       "      <td>seguro</td>\n",
       "      <td>seguro</td>\n",
       "      <td>seguro</td>\n",
       "    </tr>\n",
       "    <tr>\n",
       "      <th>2</th>\n",
       "      <td>verdadeiramente</td>\n",
       "      <td>forte</td>\n",
       "      <td>forte</td>\n",
       "      <td>forte</td>\n",
       "    </tr>\n",
       "    <tr>\n",
       "      <th>3</th>\n",
       "      <td>velhice</td>\n",
       "      <td>economista</td>\n",
       "      <td>economista</td>\n",
       "      <td>economista</td>\n",
       "    </tr>\n",
       "    <tr>\n",
       "      <th>4</th>\n",
       "      <td>variáveis</td>\n",
       "      <td>aposentadoria</td>\n",
       "      <td>aposentadoria</td>\n",
       "      <td>aposentadoria</td>\n",
       "    </tr>\n",
       "    <tr>\n",
       "      <th>5</th>\n",
       "      <td>trouxeram</td>\n",
       "      <td>igual</td>\n",
       "      <td>volume</td>\n",
       "      <td>igual</td>\n",
       "    </tr>\n",
       "    <tr>\n",
       "      <th>6</th>\n",
       "      <td>tramitação</td>\n",
       "      <td>homens</td>\n",
       "      <td>verdadeiramente</td>\n",
       "      <td>homens</td>\n",
       "    </tr>\n",
       "    <tr>\n",
       "      <th>7</th>\n",
       "      <td>timing</td>\n",
       "      <td>aprovada</td>\n",
       "      <td>velhice</td>\n",
       "      <td>aprovada</td>\n",
       "    </tr>\n",
       "    <tr>\n",
       "      <th>8</th>\n",
       "      <td>tensões</td>\n",
       "      <td>problema</td>\n",
       "      <td>variáveis</td>\n",
       "      <td>volume</td>\n",
       "    </tr>\n",
       "    <tr>\n",
       "      <th>9</th>\n",
       "      <td>tecnicamente</td>\n",
       "      <td>banco</td>\n",
       "      <td>trouxeram</td>\n",
       "      <td>verdadeiramente</td>\n",
       "    </tr>\n",
       "    <tr>\n",
       "      <th>10</th>\n",
       "      <td>tecido</td>\n",
       "      <td>porque</td>\n",
       "      <td>tramitação</td>\n",
       "      <td>velhice</td>\n",
       "    </tr>\n",
       "  </tbody>\n",
       "</table>\n",
       "</div>"
      ],
      "text/plain": [
       "                MIM           EMIM               X²             Dice\n",
       "1            volume         seguro           seguro           seguro\n",
       "2   verdadeiramente          forte            forte            forte\n",
       "3           velhice     economista       economista       economista\n",
       "4         variáveis  aposentadoria    aposentadoria    aposentadoria\n",
       "5         trouxeram          igual           volume            igual\n",
       "6        tramitação         homens  verdadeiramente           homens\n",
       "7            timing       aprovada          velhice         aprovada\n",
       "8           tensões       problema        variáveis           volume\n",
       "9      tecnicamente          banco        trouxeram  verdadeiramente\n",
       "10           tecido         porque       tramitação          velhice"
      ]
     },
     "execution_count": 12,
     "metadata": {},
     "output_type": "execute_result"
    }
   ],
   "source": [
    "tabela_05.index += 1\n",
    "tabela_05"
   ]
  },
  {
   "cell_type": "markdown",
   "metadata": {
    "colab_type": "text",
    "id": "4U_7s9L6ujmv"
   },
   "source": [
    "### 2. De acordo com a métrica que deu os melhores resultados na sua opinião, execute agora cada consulta (usando a abordagem documento- ou termo-por-vez)  expandido-a com: os top-3, top-5 e top-10 documentos. O que acontece com a precisão dos resultados em cada caso? Aumenta ou diminui? Justifique bem sua resposta."
   ]
  }
 ],
 "metadata": {
  "colab": {
   "collapsed_sections": [],
   "include_colab_link": true,
   "name": "expansao_consulta",
   "provenance": [],
   "version": "0.3.2"
  },
  "kernelspec": {
   "display_name": "Python 3",
   "language": "python",
   "name": "python3"
  },
  "language_info": {
   "codemirror_mode": {
    "name": "ipython",
    "version": 3
   },
   "file_extension": ".py",
   "mimetype": "text/x-python",
   "name": "python",
   "nbconvert_exporter": "python",
   "pygments_lexer": "ipython3",
   "version": "3.7.1"
  }
 },
 "nbformat": 4,
 "nbformat_minor": 1
}
