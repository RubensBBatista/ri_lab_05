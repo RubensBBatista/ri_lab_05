{
 "cells": [
  {
   "cell_type": "markdown",
   "metadata": {
    "colab_type": "text",
    "id": "view-in-github"
   },
   "source": [
    "<a href=\"https://colab.research.google.com/github/adautofbn/ri_labs/blob/master/lab05/expansao_consulta.ipynb\" target=\"_parent\"><img src=\"https://colab.research.google.com/assets/colab-badge.svg\" alt=\"Open In Colab\"/></a>"
   ]
  },
  {
   "cell_type": "code",
   "execution_count": 186,
   "metadata": {
    "colab": {
     "base_uri": "https://localhost:8080/",
     "height": 51
    },
    "colab_type": "code",
    "id": "XuY1pp7Qp-tE",
    "outputId": "1c1e74a7-0e65-4120-be8c-a68a8a9b90a6"
   },
   "outputs": [
    {
     "name": "stderr",
     "output_type": "stream",
     "text": [
      "[nltk_data] Downloading package stopwords to C:\\Users\\Rubens\n",
      "[nltk_data]     Batista\\AppData\\Roaming\\nltk_data...\n",
      "[nltk_data]   Package stopwords is already up-to-date!\n"
     ]
    }
   ],
   "source": [
    "import pandas as pnd\n",
    "import numpy as npy\n",
    "import nltk\n",
    "import re\n",
    "import collections\n",
    "import heapq\n",
    "import time\n",
    "import bisect\n",
    "import math\n",
    "import random\n",
    "from nltk.tokenize import RegexpTokenizer\n",
    "\n",
    "nltk.download('stopwords')\n",
    "resultado = pnd.read_csv(\"results.csv\")"
   ]
  },
  {
   "cell_type": "markdown",
   "metadata": {
    "colab_type": "text",
    "id": "Rzc_3huvEhV3"
   },
   "source": []
  },
  {
   "cell_type": "code",
   "execution_count": 187,
   "metadata": {
    "colab": {},
    "colab_type": "code",
    "id": "MOSw37nUKtCI"
   },
   "outputs": [],
   "source": [
    "tokenizer = RegexpTokenizer(r'([A-Za-zÁáÉéÍíÓóÚúÃãÕõÇçÂâÊê]{3,27})')\n",
    "stopwords = nltk.corpus.stopwords.words('portuguese') \n",
    "n = 0\n",
    "rank = {}\n",
    "\n",
    "for texto in resultado.text:\n",
    "  palavras = [palavra for palavra in tokenizer.tokenize(texto.lower())\n",
    "           if not bool(re.search(r'\\d', palavra)) and palavra not in stopwords and len(palavra) >= 3]  \n",
    "  n += 1\n",
    "  for t in palavras:\n",
    "    if t not in rank.keys():\n",
    "      rank[t] = []\n",
    "    rank[t].append(n)\n",
    "    \n",
    "for elemento in rank.items():\n",
    "  d = dict(collections.Counter(elemento[1]))\n",
    "  rank[elemento[0]] = list(d.items())"
   ]
  },
  {
   "cell_type": "markdown",
   "metadata": {
    "colab_type": "text",
    "id": "4hwnAEWBESFw"
   },
   "source": [
    "Palavras que terão sua consulta expandida:"
   ]
  },
  {
   "cell_type": "code",
   "execution_count": 188,
   "metadata": {
    "colab": {},
    "colab_type": "code",
    "id": "qYKrGnagt-o2"
   },
   "outputs": [],
   "source": [
    "consultas = [\"presidente\", \"governo\", \"país\", \"pessoas\", \"mulheres\"]"
   ]
  },
  {
   "cell_type": "markdown",
   "metadata": {
    "colab_type": "text",
    "id": "y3YVhyLTugJM"
   },
   "source": [
    "### 1. Calcule as top-10 palavras mais associadas a cada uma dessas 5 palavras de acordo com as 4 métricas que vimos na aula. Você deve produzir uma tabela similar à tabela 6.3 do capítulo 6 do livro texto (pág. 204). Qual métrica você acha que obteve os melhores resultados? Por que?"
   ]
  },
  {
   "cell_type": "markdown",
   "metadata": {
    "colab_type": "text",
    "id": "K_wwGlkMFT8G"
   },
   "source": []
  },
  {
   "cell_type": "code",
   "execution_count": 189,
   "metadata": {
    "colab": {},
    "colab_type": "code",
    "id": "V_MpIn1pEjEX"
   },
   "outputs": [],
   "source": [
    "def n_documentos_palavra(palavra, ranking):\n",
    "  return len(ranking[palavra])\n",
    "\n",
    "def n_documentos_ambas(a, b, ranking):\n",
    "  docs_a = [doc for doc,score in ranking[a]]\n",
    "  docs_b = [doc for doc,score in ranking[b]]\n",
    "  n = 0\n",
    "  \n",
    "  for doc in docs_a:\n",
    "    if doc in docs_b:\n",
    "      n += 1\n",
    "      \n",
    "  return n\n",
    "  \n",
    "def n_documentos():\n",
    "  return resultado.text.count()"
   ]
  },
  {
   "cell_type": "markdown",
   "metadata": {
    "colab_type": "text",
    "id": "rzttg9QDF4vF"
   },
   "source": []
  },
  {
   "cell_type": "code",
   "execution_count": 190,
   "metadata": {
    "colab": {},
    "colab_type": "code",
    "id": "TW7-5fxy53am"
   },
   "outputs": [],
   "source": [
    "def calcula_MIM(a, b, ranking):\n",
    "  n_a = n_documentos_palavra(a, ranking)\n",
    "  n_b = n_documentos_palavra(b, ranking)\n",
    "  n_ab = n_documentos_ambas(a, b, ranking)\n",
    "  quo = (n_a * n_b)\n",
    "  mim = n_ab / quo if quo != 0 else 0\n",
    "  return (mim,b)\n",
    "  \n",
    "def calcula_EMIM(a, b, ranking, n):\n",
    "  n_a = n_documentos_palavra(a, ranking)\n",
    "  n_b = n_documentos_palavra(b, ranking)\n",
    "  n_ab = n_documentos_ambas(a, b, ranking)\n",
    "  quo = (n_a * n_b)\n",
    "  exp = n * (n_ab / quo) if quo != 0 else 0\n",
    "  emim = n_ab * npy.log10(exp) if exp != 0 else 0\n",
    "  return (emim, b)\n",
    "  \n",
    "def calcula_X(a, b, ranking, n):\n",
    "  n_a = n_documentos_palavra(a, ranking)\n",
    "  n_b = n_documentos_palavra(b, ranking)\n",
    "  n_ab = n_documentos_ambas(a, b, ranking)\n",
    "  quo = (n_a * n_b)\n",
    "  x = (n_ab - (1 / n) * n_a * n_b) ** 2 / quo if quo != 0 else 0\n",
    "  return (x,b)\n",
    "  \n",
    "def calcula_DICE(a, b, ranking):\n",
    "  n_a = n_documentos_palavra(a, ranking)\n",
    "  n_b = n_documentos_palavra(b, ranking)\n",
    "  n_ab = n_documentos_ambas(a, b, ranking)\n",
    "  dice = n_ab / (n_a + n_b)\n",
    "  return (dice,b)"
   ]
  },
  {
   "cell_type": "markdown",
   "metadata": {
    "colab_type": "text",
    "id": "079BSl89GxVW"
   },
   "source": []
  },
  {
   "cell_type": "code",
   "execution_count": 191,
   "metadata": {
    "colab": {},
    "colab_type": "code",
    "id": "zbY8hBJBujQN"
   },
   "outputs": [],
   "source": [
    "def cria_tabela_de_metricas(consulta, rank, n):\n",
    "  tabela_top_10 = pnd.DataFrame()\n",
    "  MIM = []\n",
    "  EMIM = []\n",
    "  X = []\n",
    "  Dice = []\n",
    "  \n",
    "  for palavra in rank:\n",
    "    if palavra != consulta:\n",
    "      bisect.insort(MIM, calcula_MIM(consulta, palavra, rank))\n",
    "      bisect.insort(EMIM,calcula_EMIM(consulta, palavra, rank, n))\n",
    "      bisect.insort(X,calcula_X(consulta, palavra, rank, n))\n",
    "      bisect.insort(Dice,calcula_DICE(consulta, palavra, rank))\n",
    "\n",
    "  MIM.reverse()\n",
    "  EMIM.reverse()\n",
    "  X.reverse()\n",
    "  Dice.reverse()\n",
    "  \n",
    "  tabela_top_10['MIM'] = [palavra[1] for palavra in MIM[:10]]\n",
    "  tabela_top_10['EMIM'] = [palavra[1] for palavra in EMIM[:10]]\n",
    "  tabela_top_10['X²'] = [palavra[1] for palavra in X[:10]]\n",
    "  tabela_top_10['Dice'] = [palavra[1] for palavra in Dice[:10]]\n",
    "  \n",
    "  tabela_top_10.index += 1\n",
    "  \n",
    "  return tabela_top_10"
   ]
  },
  {
   "cell_type": "code",
   "execution_count": 192,
   "metadata": {
    "colab": {},
    "colab_type": "code",
    "id": "axOJ34jiBL0A"
   },
   "outputs": [],
   "source": [
    "n = resultado.text.count()\n",
    "tabela_01 = cria_tabela_de_metricas(consultas[0], rank, n)\n",
    "tabela_02 = cria_tabela_de_metricas(consultas[1], rank, n)\n",
    "tabela_03 = cria_tabela_de_metricas(consultas[2], rank, n)\n",
    "tabela_04 = cria_tabela_de_metricas(consultas[3], rank, n)\n",
    "tabela_05 = cria_tabela_de_metricas(consultas[4], rank, n)"
   ]
  },
  {
   "cell_type": "markdown",
   "metadata": {
    "colab_type": "text",
    "id": "ywIVJjE7Bufv"
   },
   "source": [
    "####1.1 Top-10 palavras associadas a 'presidente' "
   ]
  },
  {
   "cell_type": "code",
   "execution_count": 193,
   "metadata": {
    "colab": {
     "base_uri": "https://localhost:8080/",
     "height": 359
    },
    "colab_type": "code",
    "id": "S5idEpXTBWs3",
    "outputId": "b8b841e3-2831-407a-de56-72f9604054ae"
   },
   "outputs": [
    {
     "data": {
      "text/html": [
       "<div>\n",
       "<style scoped>\n",
       "    .dataframe tbody tr th:only-of-type {\n",
       "        vertical-align: middle;\n",
       "    }\n",
       "\n",
       "    .dataframe tbody tr th {\n",
       "        vertical-align: top;\n",
       "    }\n",
       "\n",
       "    .dataframe thead th {\n",
       "        text-align: right;\n",
       "    }\n",
       "</style>\n",
       "<table border=\"1\" class=\"dataframe\">\n",
       "  <thead>\n",
       "    <tr style=\"text-align: right;\">\n",
       "      <th></th>\n",
       "      <th>MIM</th>\n",
       "      <th>EMIM</th>\n",
       "      <th>X²</th>\n",
       "      <th>Dice</th>\n",
       "    </tr>\n",
       "  </thead>\n",
       "  <tbody>\n",
       "    <tr>\n",
       "      <th>1</th>\n",
       "      <td>útil</td>\n",
       "      <td>bolsonaro</td>\n",
       "      <td>técnicos</td>\n",
       "      <td>bolsonaro</td>\n",
       "    </tr>\n",
       "    <tr>\n",
       "      <th>2</th>\n",
       "      <td>úteis</td>\n",
       "      <td>disse</td>\n",
       "      <td>consumidor</td>\n",
       "      <td>disse</td>\n",
       "    </tr>\n",
       "    <tr>\n",
       "      <th>3</th>\n",
       "      <td>último</td>\n",
       "      <td>jair</td>\n",
       "      <td>agência</td>\n",
       "      <td>brasil</td>\n",
       "    </tr>\n",
       "    <tr>\n",
       "      <th>4</th>\n",
       "      <td>última</td>\n",
       "      <td>lula</td>\n",
       "      <td>vem</td>\n",
       "      <td>jair</td>\n",
       "    </tr>\n",
       "    <tr>\n",
       "      <th>5</th>\n",
       "      <td>ótimo</td>\n",
       "      <td>prisão</td>\n",
       "      <td>governos</td>\n",
       "      <td>governo</td>\n",
       "    </tr>\n",
       "    <tr>\n",
       "      <th>6</th>\n",
       "      <td>ótima</td>\n",
       "      <td>silva</td>\n",
       "      <td>repasse</td>\n",
       "      <td>feira</td>\n",
       "    </tr>\n",
       "    <tr>\n",
       "      <th>7</th>\n",
       "      <td>órgão</td>\n",
       "      <td>livre</td>\n",
       "      <td>necessários</td>\n",
       "      <td>nesta</td>\n",
       "    </tr>\n",
       "    <tr>\n",
       "      <th>8</th>\n",
       "      <td>ódio</td>\n",
       "      <td>dias</td>\n",
       "      <td>informa</td>\n",
       "      <td>contra</td>\n",
       "    </tr>\n",
       "    <tr>\n",
       "      <th>9</th>\n",
       "      <td>índios</td>\n",
       "      <td>inácio</td>\n",
       "      <td>funciona</td>\n",
       "      <td>ser</td>\n",
       "    </tr>\n",
       "    <tr>\n",
       "      <th>10</th>\n",
       "      <td>índio</td>\n",
       "      <td>república</td>\n",
       "      <td>famílias</td>\n",
       "      <td>sobre</td>\n",
       "    </tr>\n",
       "  </tbody>\n",
       "</table>\n",
       "</div>"
      ],
      "text/plain": [
       "       MIM       EMIM           X²       Dice\n",
       "1     útil  bolsonaro     técnicos  bolsonaro\n",
       "2    úteis      disse   consumidor      disse\n",
       "3   último       jair      agência     brasil\n",
       "4   última       lula          vem       jair\n",
       "5    ótimo     prisão     governos    governo\n",
       "6    ótima      silva      repasse      feira\n",
       "7    órgão      livre  necessários      nesta\n",
       "8     ódio       dias      informa     contra\n",
       "9   índios     inácio     funciona        ser\n",
       "10   índio  república     famílias      sobre"
      ]
     },
     "execution_count": 193,
     "metadata": {},
     "output_type": "execute_result"
    }
   ],
   "source": [
    "tabela_01"
   ]
  },
  {
   "cell_type": "markdown",
   "metadata": {
    "colab_type": "text",
    "id": "McpHTjVVB5xA"
   },
   "source": [
    "#### 1.2 Top-10 palavras associadas a 'governo'"
   ]
  },
  {
   "cell_type": "code",
   "execution_count": 194,
   "metadata": {
    "colab": {
     "base_uri": "https://localhost:8080/",
     "height": 0
    },
    "colab_type": "code",
    "id": "bArFMpg6BYnC",
    "outputId": "dc0ca74d-0ca9-4da2-9257-d8e4c200af71"
   },
   "outputs": [
    {
     "data": {
      "text/html": [
       "<div>\n",
       "<style scoped>\n",
       "    .dataframe tbody tr th:only-of-type {\n",
       "        vertical-align: middle;\n",
       "    }\n",
       "\n",
       "    .dataframe tbody tr th {\n",
       "        vertical-align: top;\n",
       "    }\n",
       "\n",
       "    .dataframe thead th {\n",
       "        text-align: right;\n",
       "    }\n",
       "</style>\n",
       "<table border=\"1\" class=\"dataframe\">\n",
       "  <thead>\n",
       "    <tr style=\"text-align: right;\">\n",
       "      <th></th>\n",
       "      <th>MIM</th>\n",
       "      <th>EMIM</th>\n",
       "      <th>X²</th>\n",
       "      <th>Dice</th>\n",
       "    </tr>\n",
       "  </thead>\n",
       "  <tbody>\n",
       "    <tr>\n",
       "      <th>1</th>\n",
       "      <td>única</td>\n",
       "      <td>bolsonaro</td>\n",
       "      <td>sendo</td>\n",
       "      <td>bolsonaro</td>\n",
       "    </tr>\n",
       "    <tr>\n",
       "      <th>2</th>\n",
       "      <td>último</td>\n",
       "      <td>afirmou</td>\n",
       "      <td>lado</td>\n",
       "      <td>presidente</td>\n",
       "    </tr>\n",
       "    <tr>\n",
       "      <th>3</th>\n",
       "      <td>ótimo</td>\n",
       "      <td>ainda</td>\n",
       "      <td>desenvolvimento</td>\n",
       "      <td>brasil</td>\n",
       "    </tr>\n",
       "    <tr>\n",
       "      <th>4</th>\n",
       "      <td>ótima</td>\n",
       "      <td>sendo</td>\n",
       "      <td>vou</td>\n",
       "      <td>jair</td>\n",
       "    </tr>\n",
       "    <tr>\n",
       "      <th>5</th>\n",
       "      <td>órgão</td>\n",
       "      <td>lado</td>\n",
       "      <td>chefe</td>\n",
       "      <td>disse</td>\n",
       "    </tr>\n",
       "    <tr>\n",
       "      <th>6</th>\n",
       "      <td>índios</td>\n",
       "      <td>jair</td>\n",
       "      <td>povo</td>\n",
       "      <td>afirmou</td>\n",
       "    </tr>\n",
       "    <tr>\n",
       "      <th>7</th>\n",
       "      <td>étnica</td>\n",
       "      <td>povo</td>\n",
       "      <td>sim</td>\n",
       "      <td>paulo</td>\n",
       "    </tr>\n",
       "    <tr>\n",
       "      <th>8</th>\n",
       "      <td>ética</td>\n",
       "      <td>paulo</td>\n",
       "      <td>ainda</td>\n",
       "      <td>ainda</td>\n",
       "    </tr>\n",
       "    <tr>\n",
       "      <th>9</th>\n",
       "      <td>época</td>\n",
       "      <td>país</td>\n",
       "      <td>secretário</td>\n",
       "      <td>país</td>\n",
       "    </tr>\n",
       "    <tr>\n",
       "      <th>10</th>\n",
       "      <td>ânimo</td>\n",
       "      <td>vai</td>\n",
       "      <td>publicada</td>\n",
       "      <td>ser</td>\n",
       "    </tr>\n",
       "  </tbody>\n",
       "</table>\n",
       "</div>"
      ],
      "text/plain": [
       "       MIM       EMIM               X²        Dice\n",
       "1    única  bolsonaro            sendo   bolsonaro\n",
       "2   último    afirmou             lado  presidente\n",
       "3    ótimo      ainda  desenvolvimento      brasil\n",
       "4    ótima      sendo              vou        jair\n",
       "5    órgão       lado            chefe       disse\n",
       "6   índios       jair             povo     afirmou\n",
       "7   étnica       povo              sim       paulo\n",
       "8    ética      paulo            ainda       ainda\n",
       "9    época       país       secretário        país\n",
       "10   ânimo        vai        publicada         ser"
      ]
     },
     "execution_count": 194,
     "metadata": {},
     "output_type": "execute_result"
    }
   ],
   "source": [
    "tabela_02"
   ]
  },
  {
   "cell_type": "markdown",
   "metadata": {
    "colab_type": "text",
    "id": "09vbHGYoCGMd"
   },
   "source": [
    "#### 1.3 Top-10 palavras associadas a 'país'"
   ]
  },
  {
   "cell_type": "code",
   "execution_count": 195,
   "metadata": {
    "colab": {
     "base_uri": "https://localhost:8080/",
     "height": 0
    },
    "colab_type": "code",
    "id": "NgPb85EqBaeT",
    "outputId": "076d5c6d-84ee-4aa5-9d8f-30be7f510b6c"
   },
   "outputs": [
    {
     "data": {
      "text/html": [
       "<div>\n",
       "<style scoped>\n",
       "    .dataframe tbody tr th:only-of-type {\n",
       "        vertical-align: middle;\n",
       "    }\n",
       "\n",
       "    .dataframe tbody tr th {\n",
       "        vertical-align: top;\n",
       "    }\n",
       "\n",
       "    .dataframe thead th {\n",
       "        text-align: right;\n",
       "    }\n",
       "</style>\n",
       "<table border=\"1\" class=\"dataframe\">\n",
       "  <thead>\n",
       "    <tr style=\"text-align: right;\">\n",
       "      <th></th>\n",
       "      <th>MIM</th>\n",
       "      <th>EMIM</th>\n",
       "      <th>X²</th>\n",
       "      <th>Dice</th>\n",
       "    </tr>\n",
       "  </thead>\n",
       "  <tbody>\n",
       "    <tr>\n",
       "      <th>1</th>\n",
       "      <td>útil</td>\n",
       "      <td>brasil</td>\n",
       "      <td>setor</td>\n",
       "      <td>brasil</td>\n",
       "    </tr>\n",
       "    <tr>\n",
       "      <th>2</th>\n",
       "      <td>étnicas</td>\n",
       "      <td>mundo</td>\n",
       "      <td>méxico</td>\n",
       "      <td>governo</td>\n",
       "    </tr>\n",
       "    <tr>\n",
       "      <th>3</th>\n",
       "      <td>ética</td>\n",
       "      <td>países</td>\n",
       "      <td>ato</td>\n",
       "      <td>nacional</td>\n",
       "    </tr>\n",
       "    <tr>\n",
       "      <th>4</th>\n",
       "      <td>árbitro</td>\n",
       "      <td>nacional</td>\n",
       "      <td>saída</td>\n",
       "      <td>paulo</td>\n",
       "    </tr>\n",
       "    <tr>\n",
       "      <th>5</th>\n",
       "      <td>álvaro</td>\n",
       "      <td>setor</td>\n",
       "      <td>importância</td>\n",
       "      <td>mundo</td>\n",
       "    </tr>\n",
       "    <tr>\n",
       "      <th>6</th>\n",
       "      <td>álcool</td>\n",
       "      <td>grande</td>\n",
       "      <td>declarou</td>\n",
       "      <td>grande</td>\n",
       "    </tr>\n",
       "    <tr>\n",
       "      <th>7</th>\n",
       "      <td>áfrica</td>\n",
       "      <td>ato</td>\n",
       "      <td>mundo</td>\n",
       "      <td>pessoas</td>\n",
       "    </tr>\n",
       "    <tr>\n",
       "      <th>8</th>\n",
       "      <td>zelândia</td>\n",
       "      <td>fernando</td>\n",
       "      <td>visita</td>\n",
       "      <td>bolsonaro</td>\n",
       "    </tr>\n",
       "    <tr>\n",
       "      <th>9</th>\n",
       "      <td>yeend</td>\n",
       "      <td>eua</td>\n",
       "      <td>oposição</td>\n",
       "      <td>países</td>\n",
       "    </tr>\n",
       "    <tr>\n",
       "      <th>10</th>\n",
       "      <td>yad</td>\n",
       "      <td>méxico</td>\n",
       "      <td>países</td>\n",
       "      <td>afirmou</td>\n",
       "    </tr>\n",
       "  </tbody>\n",
       "</table>\n",
       "</div>"
      ],
      "text/plain": [
       "         MIM      EMIM           X²       Dice\n",
       "1       útil    brasil        setor     brasil\n",
       "2    étnicas     mundo       méxico    governo\n",
       "3      ética    países          ato   nacional\n",
       "4    árbitro  nacional        saída      paulo\n",
       "5     álvaro     setor  importância      mundo\n",
       "6     álcool    grande     declarou     grande\n",
       "7     áfrica       ato        mundo    pessoas\n",
       "8   zelândia  fernando       visita  bolsonaro\n",
       "9      yeend       eua     oposição     países\n",
       "10       yad    méxico       países    afirmou"
      ]
     },
     "execution_count": 195,
     "metadata": {},
     "output_type": "execute_result"
    }
   ],
   "source": [
    "tabela_03"
   ]
  },
  {
   "cell_type": "markdown",
   "metadata": {
    "colab_type": "text",
    "id": "vFlUTQuPCL1A"
   },
   "source": [
    "#### 1.4 Top-10 palavras associadas a 'pessoas'"
   ]
  },
  {
   "cell_type": "code",
   "execution_count": 196,
   "metadata": {
    "colab": {
     "base_uri": "https://localhost:8080/",
     "height": 0
    },
    "colab_type": "code",
    "id": "qfdW2uUCBbKl",
    "outputId": "f1695ca9-43f7-44e6-d312-e396b52cf3c6"
   },
   "outputs": [
    {
     "data": {
      "text/html": [
       "<div>\n",
       "<style scoped>\n",
       "    .dataframe tbody tr th:only-of-type {\n",
       "        vertical-align: middle;\n",
       "    }\n",
       "\n",
       "    .dataframe tbody tr th {\n",
       "        vertical-align: top;\n",
       "    }\n",
       "\n",
       "    .dataframe thead th {\n",
       "        text-align: right;\n",
       "    }\n",
       "</style>\n",
       "<table border=\"1\" class=\"dataframe\">\n",
       "  <thead>\n",
       "    <tr style=\"text-align: right;\">\n",
       "      <th></th>\n",
       "      <th>MIM</th>\n",
       "      <th>EMIM</th>\n",
       "      <th>X²</th>\n",
       "      <th>Dice</th>\n",
       "    </tr>\n",
       "  </thead>\n",
       "  <tbody>\n",
       "    <tr>\n",
       "      <th>1</th>\n",
       "      <td>ótimo</td>\n",
       "      <td>então</td>\n",
       "      <td>então</td>\n",
       "      <td>então</td>\n",
       "    </tr>\n",
       "    <tr>\n",
       "      <th>2</th>\n",
       "      <td>ótima</td>\n",
       "      <td>todo</td>\n",
       "      <td>seguinte</td>\n",
       "      <td>país</td>\n",
       "    </tr>\n",
       "    <tr>\n",
       "      <th>3</th>\n",
       "      <td>ídolo</td>\n",
       "      <td>deputado</td>\n",
       "      <td>facebook</td>\n",
       "      <td>paulo</td>\n",
       "    </tr>\n",
       "    <tr>\n",
       "      <th>4</th>\n",
       "      <td>étnica</td>\n",
       "      <td>país</td>\n",
       "      <td>veio</td>\n",
       "      <td>todo</td>\n",
       "    </tr>\n",
       "    <tr>\n",
       "      <th>5</th>\n",
       "      <td>ética</td>\n",
       "      <td>antes</td>\n",
       "      <td>retorno</td>\n",
       "      <td>deputado</td>\n",
       "    </tr>\n",
       "    <tr>\n",
       "      <th>6</th>\n",
       "      <td>ânimos</td>\n",
       "      <td>seguinte</td>\n",
       "      <td>procurando</td>\n",
       "      <td>federal</td>\n",
       "    </tr>\n",
       "    <tr>\n",
       "      <th>7</th>\n",
       "      <td>âmago</td>\n",
       "      <td>facebook</td>\n",
       "      <td>parece</td>\n",
       "      <td>dias</td>\n",
       "    </tr>\n",
       "    <tr>\n",
       "      <th>8</th>\n",
       "      <td>árbitro</td>\n",
       "      <td>realidade</td>\n",
       "      <td>hora</td>\n",
       "      <td>disse</td>\n",
       "    </tr>\n",
       "    <tr>\n",
       "      <th>9</th>\n",
       "      <td>álvaro</td>\n",
       "      <td>dentro</td>\n",
       "      <td>homens</td>\n",
       "      <td>onde</td>\n",
       "    </tr>\n",
       "    <tr>\n",
       "      <th>10</th>\n",
       "      <td>álcool</td>\n",
       "      <td>sempre</td>\n",
       "      <td>escrito</td>\n",
       "      <td>apenas</td>\n",
       "    </tr>\n",
       "  </tbody>\n",
       "</table>\n",
       "</div>"
      ],
      "text/plain": [
       "        MIM       EMIM          X²      Dice\n",
       "1     ótimo      então       então     então\n",
       "2     ótima       todo    seguinte      país\n",
       "3     ídolo   deputado    facebook     paulo\n",
       "4    étnica       país        veio      todo\n",
       "5     ética      antes     retorno  deputado\n",
       "6    ânimos   seguinte  procurando   federal\n",
       "7     âmago   facebook      parece      dias\n",
       "8   árbitro  realidade        hora     disse\n",
       "9    álvaro     dentro      homens      onde\n",
       "10   álcool     sempre     escrito    apenas"
      ]
     },
     "execution_count": 196,
     "metadata": {},
     "output_type": "execute_result"
    }
   ],
   "source": [
    "tabela_04"
   ]
  },
  {
   "cell_type": "markdown",
   "metadata": {
    "colab_type": "text",
    "id": "80B4zI8HCPOG"
   },
   "source": [
    "#### 1.5 Top-10 palavras associadas a 'mulheres'"
   ]
  },
  {
   "cell_type": "code",
   "execution_count": 197,
   "metadata": {
    "colab": {
     "base_uri": "https://localhost:8080/",
     "height": 0
    },
    "colab_type": "code",
    "id": "0zLCM44RBb9z",
    "outputId": "dd151a39-003a-420e-ffcc-7eeedfe57b7b"
   },
   "outputs": [
    {
     "data": {
      "text/html": [
       "<div>\n",
       "<style scoped>\n",
       "    .dataframe tbody tr th:only-of-type {\n",
       "        vertical-align: middle;\n",
       "    }\n",
       "\n",
       "    .dataframe tbody tr th {\n",
       "        vertical-align: top;\n",
       "    }\n",
       "\n",
       "    .dataframe thead th {\n",
       "        text-align: right;\n",
       "    }\n",
       "</style>\n",
       "<table border=\"1\" class=\"dataframe\">\n",
       "  <thead>\n",
       "    <tr style=\"text-align: right;\">\n",
       "      <th></th>\n",
       "      <th>MIM</th>\n",
       "      <th>EMIM</th>\n",
       "      <th>X²</th>\n",
       "      <th>Dice</th>\n",
       "    </tr>\n",
       "  </thead>\n",
       "  <tbody>\n",
       "    <tr>\n",
       "      <th>1</th>\n",
       "      <td>volume</td>\n",
       "      <td>seguro</td>\n",
       "      <td>seguro</td>\n",
       "      <td>seguro</td>\n",
       "    </tr>\n",
       "    <tr>\n",
       "      <th>2</th>\n",
       "      <td>verdadeiramente</td>\n",
       "      <td>forte</td>\n",
       "      <td>forte</td>\n",
       "      <td>forte</td>\n",
       "    </tr>\n",
       "    <tr>\n",
       "      <th>3</th>\n",
       "      <td>velhice</td>\n",
       "      <td>economista</td>\n",
       "      <td>economista</td>\n",
       "      <td>economista</td>\n",
       "    </tr>\n",
       "    <tr>\n",
       "      <th>4</th>\n",
       "      <td>variáveis</td>\n",
       "      <td>aposentadoria</td>\n",
       "      <td>aposentadoria</td>\n",
       "      <td>aposentadoria</td>\n",
       "    </tr>\n",
       "    <tr>\n",
       "      <th>5</th>\n",
       "      <td>trouxeram</td>\n",
       "      <td>igual</td>\n",
       "      <td>volume</td>\n",
       "      <td>igual</td>\n",
       "    </tr>\n",
       "    <tr>\n",
       "      <th>6</th>\n",
       "      <td>tramitação</td>\n",
       "      <td>homens</td>\n",
       "      <td>verdadeiramente</td>\n",
       "      <td>homens</td>\n",
       "    </tr>\n",
       "    <tr>\n",
       "      <th>7</th>\n",
       "      <td>timing</td>\n",
       "      <td>aprovada</td>\n",
       "      <td>velhice</td>\n",
       "      <td>aprovada</td>\n",
       "    </tr>\n",
       "    <tr>\n",
       "      <th>8</th>\n",
       "      <td>tensões</td>\n",
       "      <td>problema</td>\n",
       "      <td>variáveis</td>\n",
       "      <td>volume</td>\n",
       "    </tr>\n",
       "    <tr>\n",
       "      <th>9</th>\n",
       "      <td>tecnicamente</td>\n",
       "      <td>banco</td>\n",
       "      <td>trouxeram</td>\n",
       "      <td>verdadeiramente</td>\n",
       "    </tr>\n",
       "    <tr>\n",
       "      <th>10</th>\n",
       "      <td>tecido</td>\n",
       "      <td>porque</td>\n",
       "      <td>tramitação</td>\n",
       "      <td>velhice</td>\n",
       "    </tr>\n",
       "  </tbody>\n",
       "</table>\n",
       "</div>"
      ],
      "text/plain": [
       "                MIM           EMIM               X²             Dice\n",
       "1            volume         seguro           seguro           seguro\n",
       "2   verdadeiramente          forte            forte            forte\n",
       "3           velhice     economista       economista       economista\n",
       "4         variáveis  aposentadoria    aposentadoria    aposentadoria\n",
       "5         trouxeram          igual           volume            igual\n",
       "6        tramitação         homens  verdadeiramente           homens\n",
       "7            timing       aprovada          velhice         aprovada\n",
       "8           tensões       problema        variáveis           volume\n",
       "9      tecnicamente          banco        trouxeram  verdadeiramente\n",
       "10           tecido         porque       tramitação          velhice"
      ]
     },
     "execution_count": 197,
     "metadata": {},
     "output_type": "execute_result"
    }
   ],
   "source": [
    "tabela_05"
   ]
  },
  {
   "cell_type": "markdown",
   "metadata": {
    "colab_type": "text",
    "id": "bpLrbmJpKajt"
   },
   "source": [
    "#### Métricas com resultados satisfatórios:\n",
    "EMIM, X², Dice.\n",
    "\n",
    "Essas mostraram resultados mais próximos ao contexto da palavra que foi utilizada. MIM mostrou resultados mais distantes do contexto. Dice foi a de melhores resultados."
   ]
  },
  {
   "cell_type": "markdown",
   "metadata": {
    "colab_type": "text",
    "id": "4U_7s9L6ujmv"
   },
   "source": [
    "### 2. De acordo com a métrica que deu os melhores resultados na sua opinião, execute agora cada consulta (usando a abordagem documento- ou termo-por-vez)  expandido-a com: os top-3, top-5 e top-10 documentos. O que acontece com a precisão dos resultados em cada caso? Aumenta ou diminui? Justifique bem sua resposta."
   ]
  },
  {
   "cell_type": "markdown",
   "metadata": {
    "colab_type": "text",
    "id": "5iXwmkGQtX9c"
   },
   "source": [
    "#### Algortimo : Termo-por-vez"
   ]
  },
  {
   "cell_type": "code",
   "execution_count": 198,
   "metadata": {
    "colab": {},
    "colab_type": "code",
    "id": "jhbTZjZvQKi6"
   },
   "outputs": [],
   "source": [
    "def term_a_time(consulta, indices, k):    \n",
    "    a = {} # Accumulator HashTable\n",
    "    indices_consultas = [] # Array\n",
    "    rank = [] # HeapQueue, implementation of PriorityQueue\n",
    "    \n",
    "    for palavra in consulta.split(\" \"):\n",
    "      if palavra in indices.keys():\n",
    "          indices_consultas.append(indices[palavra])\n",
    "    \n",
    "    for ind in indices_consultas:\n",
    "      for i in ind:\n",
    "          doc = i[0]\n",
    "          if doc not in a.keys():\n",
    "              a[doc] = 0\n",
    "          a[doc] += i[1]\n",
    "    \n",
    "    for (doc, score) in a.items():\n",
    "      heapq.heappush(rank, (score, doc))\n",
    "        \n",
    "    return heapq.nlargest(k, rank)"
   ]
  },
  {
   "cell_type": "code",
   "execution_count": 199,
   "metadata": {
    "colab": {},
    "colab_type": "code",
    "id": "AOMSnkM9QN9a"
   },
   "outputs": [],
   "source": [
    "def top_docs(consulta, k):\n",
    "  \n",
    "  top_docs = [doc for score,doc in term_a_time(consulta, rank, k)]\n",
    "  top_docs_ranking = {} \n",
    "  \n",
    "  for palavra in rank:\n",
    "    top_docs_ranking[palavra] = []\n",
    "    for doc_score in rank[palavra]:\n",
    "      if doc_score[0] in top_docs:\n",
    "        top_docs_ranking[palavra].append(doc_score)\n",
    "        \n",
    "  return top_docs_ranking"
   ]
  },
  {
   "cell_type": "markdown",
   "metadata": {
    "colab_type": "text",
    "id": "f9K9_X-tCNyh"
   },
   "source": [
    "#### Top-3 Documentos\n"
   ]
  },
  {
   "cell_type": "code",
   "execution_count": 200,
   "metadata": {
    "colab": {},
    "colab_type": "code",
    "id": "nfbtKx6PQll_"
   },
   "outputs": [],
   "source": [
    "k = 3\n",
    "rank_d1 = top_docs(consultas[0], k)\n",
    "rank_d2 = top_docs(consultas[1], k)\n",
    "rank_d3 = top_docs(consultas[2], k)\n",
    "rank_d4 = top_docs(consultas[3], k)\n",
    "rank_d5 = top_docs(consultas[4], k)"
   ]
  },
  {
   "cell_type": "code",
   "execution_count": 201,
   "metadata": {
    "colab": {},
    "colab_type": "code",
    "id": "sWsG17xuIPFN"
   },
   "outputs": [],
   "source": [
    "tabela_top1 = cria_tabela_de_metricas(consultas[0], rank_d1, k)\n",
    "tabela_top2 = cria_tabela_de_metricas(consultas[1], rank_d2, k)\n",
    "tabela_top3 = cria_tabela_de_metricas(consultas[2], rank_d3, k)\n",
    "tabela_top4 = cria_tabela_de_metricas(consultas[3], rank_d4, k)\n",
    "tabela_top5 = cria_tabela_de_metricas(consultas[4], rank_d5, k)"
   ]
  },
  {
   "cell_type": "markdown",
   "metadata": {
    "colab_type": "text",
    "id": "EIqPnBmVK0OF"
   },
   "source": [
    "##### Top-10 palavras associadas aos Top-3 Documentos de 'presidente'"
   ]
  },
  {
   "cell_type": "code",
   "execution_count": 202,
   "metadata": {
    "colab": {
     "base_uri": "https://localhost:8080/",
     "height": 359
    },
    "colab_type": "code",
    "id": "pWPtQCLbJMac",
    "outputId": "0a0d2088-ace2-464f-f0f2-431f6f92dec4"
   },
   "outputs": [
    {
     "data": {
      "text/html": [
       "<div>\n",
       "<style scoped>\n",
       "    .dataframe tbody tr th:only-of-type {\n",
       "        vertical-align: middle;\n",
       "    }\n",
       "\n",
       "    .dataframe tbody tr th {\n",
       "        vertical-align: top;\n",
       "    }\n",
       "\n",
       "    .dataframe thead th {\n",
       "        text-align: right;\n",
       "    }\n",
       "</style>\n",
       "<table border=\"1\" class=\"dataframe\">\n",
       "  <thead>\n",
       "    <tr style=\"text-align: right;\">\n",
       "      <th></th>\n",
       "      <th>Dice before Term A Time</th>\n",
       "      <th>Dice after Term A Time</th>\n",
       "    </tr>\n",
       "  </thead>\n",
       "  <tbody>\n",
       "    <tr>\n",
       "      <th>1</th>\n",
       "      <td>bolsonaro</td>\n",
       "      <td>turno</td>\n",
       "    </tr>\n",
       "    <tr>\n",
       "      <th>2</th>\n",
       "      <td>disse</td>\n",
       "      <td>sobre</td>\n",
       "    </tr>\n",
       "    <tr>\n",
       "      <th>3</th>\n",
       "      <td>brasil</td>\n",
       "      <td>sido</td>\n",
       "    </tr>\n",
       "    <tr>\n",
       "      <th>4</th>\n",
       "      <td>jair</td>\n",
       "      <td>ser</td>\n",
       "    </tr>\n",
       "    <tr>\n",
       "      <th>5</th>\n",
       "      <td>governo</td>\n",
       "      <td>segundo</td>\n",
       "    </tr>\n",
       "    <tr>\n",
       "      <th>6</th>\n",
       "      <td>feira</td>\n",
       "      <td>qualquer</td>\n",
       "    </tr>\n",
       "    <tr>\n",
       "      <th>7</th>\n",
       "      <td>nesta</td>\n",
       "      <td>país</td>\n",
       "    </tr>\n",
       "    <tr>\n",
       "      <th>8</th>\n",
       "      <td>contra</td>\n",
       "      <td>paulo</td>\n",
       "    </tr>\n",
       "    <tr>\n",
       "      <th>9</th>\n",
       "      <td>ser</td>\n",
       "      <td>ministério</td>\n",
       "    </tr>\n",
       "    <tr>\n",
       "      <th>10</th>\n",
       "      <td>sobre</td>\n",
       "      <td>lembrar</td>\n",
       "    </tr>\n",
       "  </tbody>\n",
       "</table>\n",
       "</div>"
      ],
      "text/plain": [
       "   Dice before Term A Time Dice after Term A Time\n",
       "1                bolsonaro                  turno\n",
       "2                    disse                  sobre\n",
       "3                   brasil                   sido\n",
       "4                     jair                    ser\n",
       "5                  governo                segundo\n",
       "6                    feira               qualquer\n",
       "7                    nesta                   país\n",
       "8                   contra                  paulo\n",
       "9                      ser             ministério\n",
       "10                   sobre                lembrar"
      ]
     },
     "execution_count": 202,
     "metadata": {},
     "output_type": "execute_result"
    }
   ],
   "source": [
    "tabela_DICE = pnd.DataFrame()\n",
    "tabela_DICE['Dice before Term A Time'] = tabela_01['Dice']\n",
    "tabela_DICE['Dice after Term A Time'] = tabela_top1['Dice']\n",
    "tabela_DICE"
   ]
  },
  {
   "cell_type": "markdown",
   "metadata": {
    "colab_type": "text",
    "id": "GzuhQNJjK8kO"
   },
   "source": [
    "##### Top-10 palavras associadas aos Top-3 Documentos de 'governo'"
   ]
  },
  {
   "cell_type": "code",
   "execution_count": 203,
   "metadata": {
    "colab": {
     "base_uri": "https://localhost:8080/",
     "height": 359
    },
    "colab_type": "code",
    "id": "LH3mPbOSLPrM",
    "outputId": "3e8f3ac5-98de-458a-d298-40b804c86c81"
   },
   "outputs": [
    {
     "data": {
      "text/html": [
       "<div>\n",
       "<style scoped>\n",
       "    .dataframe tbody tr th:only-of-type {\n",
       "        vertical-align: middle;\n",
       "    }\n",
       "\n",
       "    .dataframe tbody tr th {\n",
       "        vertical-align: top;\n",
       "    }\n",
       "\n",
       "    .dataframe thead th {\n",
       "        text-align: right;\n",
       "    }\n",
       "</style>\n",
       "<table border=\"1\" class=\"dataframe\">\n",
       "  <thead>\n",
       "    <tr style=\"text-align: right;\">\n",
       "      <th></th>\n",
       "      <th>Dice before Term A Time</th>\n",
       "      <th>Dice after Term A Time</th>\n",
       "    </tr>\n",
       "  </thead>\n",
       "  <tbody>\n",
       "    <tr>\n",
       "      <th>1</th>\n",
       "      <td>bolsonaro</td>\n",
       "      <td>parte</td>\n",
       "    </tr>\n",
       "    <tr>\n",
       "      <th>2</th>\n",
       "      <td>presidente</td>\n",
       "      <td>boa</td>\n",
       "    </tr>\n",
       "    <tr>\n",
       "      <th>3</th>\n",
       "      <td>brasil</td>\n",
       "      <td>três</td>\n",
       "    </tr>\n",
       "    <tr>\n",
       "      <th>4</th>\n",
       "      <td>jair</td>\n",
       "      <td>todos</td>\n",
       "    </tr>\n",
       "    <tr>\n",
       "      <th>5</th>\n",
       "      <td>disse</td>\n",
       "      <td>todo</td>\n",
       "    </tr>\n",
       "    <tr>\n",
       "      <th>6</th>\n",
       "      <td>afirmou</td>\n",
       "      <td>ser</td>\n",
       "    </tr>\n",
       "    <tr>\n",
       "      <th>7</th>\n",
       "      <td>paulo</td>\n",
       "      <td>saúde</td>\n",
       "    </tr>\n",
       "    <tr>\n",
       "      <th>8</th>\n",
       "      <td>ainda</td>\n",
       "      <td>responsável</td>\n",
       "    </tr>\n",
       "    <tr>\n",
       "      <th>9</th>\n",
       "      <td>país</td>\n",
       "      <td>reformas</td>\n",
       "    </tr>\n",
       "    <tr>\n",
       "      <th>10</th>\n",
       "      <td>ser</td>\n",
       "      <td>recém</td>\n",
       "    </tr>\n",
       "  </tbody>\n",
       "</table>\n",
       "</div>"
      ],
      "text/plain": [
       "   Dice before Term A Time Dice after Term A Time\n",
       "1                bolsonaro                  parte\n",
       "2               presidente                    boa\n",
       "3                   brasil                   três\n",
       "4                     jair                  todos\n",
       "5                    disse                   todo\n",
       "6                  afirmou                    ser\n",
       "7                    paulo                  saúde\n",
       "8                    ainda            responsável\n",
       "9                     país               reformas\n",
       "10                     ser                  recém"
      ]
     },
     "execution_count": 203,
     "metadata": {},
     "output_type": "execute_result"
    }
   ],
   "source": [
    "tabela_DICE = pnd.DataFrame()\n",
    "tabela_DICE['Dice before Term A Time'] = tabela_02['Dice']\n",
    "tabela_DICE['Dice after Term A Time'] = tabela_top2['Dice']\n",
    "tabela_DICE"
   ]
  },
  {
   "cell_type": "markdown",
   "metadata": {
    "colab_type": "text",
    "id": "Mw5ATdBDK8-A"
   },
   "source": [
    "##### Top-10 palavras associadas aos Top-3 Documentos de 'país'"
   ]
  },
  {
   "cell_type": "code",
   "execution_count": 204,
   "metadata": {
    "colab": {
     "base_uri": "https://localhost:8080/",
     "height": 359
    },
    "colab_type": "code",
    "id": "cRKqTowzLQue",
    "outputId": "3db92fc5-ebe6-4e11-8ac7-7b65705af68f"
   },
   "outputs": [
    {
     "data": {
      "text/html": [
       "<div>\n",
       "<style scoped>\n",
       "    .dataframe tbody tr th:only-of-type {\n",
       "        vertical-align: middle;\n",
       "    }\n",
       "\n",
       "    .dataframe tbody tr th {\n",
       "        vertical-align: top;\n",
       "    }\n",
       "\n",
       "    .dataframe thead th {\n",
       "        text-align: right;\n",
       "    }\n",
       "</style>\n",
       "<table border=\"1\" class=\"dataframe\">\n",
       "  <thead>\n",
       "    <tr style=\"text-align: right;\">\n",
       "      <th></th>\n",
       "      <th>Dice before Term A Time</th>\n",
       "      <th>Dice after Term A Time</th>\n",
       "    </tr>\n",
       "  </thead>\n",
       "  <tbody>\n",
       "    <tr>\n",
       "      <th>1</th>\n",
       "      <td>brasil</td>\n",
       "      <td>traz</td>\n",
       "    </tr>\n",
       "    <tr>\n",
       "      <th>2</th>\n",
       "      <td>governo</td>\n",
       "      <td>presidente</td>\n",
       "    </tr>\n",
       "    <tr>\n",
       "      <th>3</th>\n",
       "      <td>nacional</td>\n",
       "      <td>oficial</td>\n",
       "    </tr>\n",
       "    <tr>\n",
       "      <th>4</th>\n",
       "      <td>paulo</td>\n",
       "      <td>mundo</td>\n",
       "    </tr>\n",
       "    <tr>\n",
       "      <th>5</th>\n",
       "      <td>mundo</td>\n",
       "      <td>mundial</td>\n",
       "    </tr>\n",
       "    <tr>\n",
       "      <th>6</th>\n",
       "      <td>grande</td>\n",
       "      <td>milhões</td>\n",
       "    </tr>\n",
       "    <tr>\n",
       "      <th>7</th>\n",
       "      <td>pessoas</td>\n",
       "      <td>jair</td>\n",
       "    </tr>\n",
       "    <tr>\n",
       "      <th>8</th>\n",
       "      <td>bolsonaro</td>\n",
       "      <td>durante</td>\n",
       "    </tr>\n",
       "    <tr>\n",
       "      <th>9</th>\n",
       "      <td>países</td>\n",
       "      <td>brasil</td>\n",
       "    </tr>\n",
       "    <tr>\n",
       "      <th>10</th>\n",
       "      <td>afirmou</td>\n",
       "      <td>bolsonaro</td>\n",
       "    </tr>\n",
       "  </tbody>\n",
       "</table>\n",
       "</div>"
      ],
      "text/plain": [
       "   Dice before Term A Time Dice after Term A Time\n",
       "1                   brasil                   traz\n",
       "2                  governo             presidente\n",
       "3                 nacional                oficial\n",
       "4                    paulo                  mundo\n",
       "5                    mundo                mundial\n",
       "6                   grande                milhões\n",
       "7                  pessoas                   jair\n",
       "8                bolsonaro                durante\n",
       "9                   países                 brasil\n",
       "10                 afirmou              bolsonaro"
      ]
     },
     "execution_count": 204,
     "metadata": {},
     "output_type": "execute_result"
    }
   ],
   "source": [
    "tabela_DICE = pnd.DataFrame()\n",
    "tabela_DICE['Dice before Term A Time'] = tabela_03['Dice']\n",
    "tabela_DICE['Dice after Term A Time'] = tabela_top3['Dice']\n",
    "tabela_DICE"
   ]
  },
  {
   "cell_type": "markdown",
   "metadata": {
    "colab_type": "text",
    "id": "QvqiSNkwK9cS"
   },
   "source": [
    "##### Top-10 palavras associadas aos Top-3 Documentos de 'pessoas'"
   ]
  },
  {
   "cell_type": "code",
   "execution_count": 205,
   "metadata": {
    "colab": {
     "base_uri": "https://localhost:8080/",
     "height": 359
    },
    "colab_type": "code",
    "id": "6_G33lxhLRuG",
    "outputId": "0f6550d3-def9-474d-d1fb-0effc66c9cba"
   },
   "outputs": [
    {
     "data": {
      "text/html": [
       "<div>\n",
       "<style scoped>\n",
       "    .dataframe tbody tr th:only-of-type {\n",
       "        vertical-align: middle;\n",
       "    }\n",
       "\n",
       "    .dataframe tbody tr th {\n",
       "        vertical-align: top;\n",
       "    }\n",
       "\n",
       "    .dataframe thead th {\n",
       "        text-align: right;\n",
       "    }\n",
       "</style>\n",
       "<table border=\"1\" class=\"dataframe\">\n",
       "  <thead>\n",
       "    <tr style=\"text-align: right;\">\n",
       "      <th></th>\n",
       "      <th>Dice before Term A Time</th>\n",
       "      <th>Dice after Term A Time</th>\n",
       "    </tr>\n",
       "  </thead>\n",
       "  <tbody>\n",
       "    <tr>\n",
       "      <th>1</th>\n",
       "      <td>então</td>\n",
       "      <td>brasil</td>\n",
       "    </tr>\n",
       "    <tr>\n",
       "      <th>2</th>\n",
       "      <td>país</td>\n",
       "      <td>bolsonaro</td>\n",
       "    </tr>\n",
       "    <tr>\n",
       "      <th>3</th>\n",
       "      <td>paulo</td>\n",
       "      <td>único</td>\n",
       "    </tr>\n",
       "    <tr>\n",
       "      <th>4</th>\n",
       "      <td>todo</td>\n",
       "      <td>twitter</td>\n",
       "    </tr>\n",
       "    <tr>\n",
       "      <th>5</th>\n",
       "      <td>deputado</td>\n",
       "      <td>três</td>\n",
       "    </tr>\n",
       "    <tr>\n",
       "      <th>6</th>\n",
       "      <td>federal</td>\n",
       "      <td>todos</td>\n",
       "    </tr>\n",
       "    <tr>\n",
       "      <th>7</th>\n",
       "      <td>dias</td>\n",
       "      <td>todo</td>\n",
       "    </tr>\n",
       "    <tr>\n",
       "      <th>8</th>\n",
       "      <td>disse</td>\n",
       "      <td>ter</td>\n",
       "    </tr>\n",
       "    <tr>\n",
       "      <th>9</th>\n",
       "      <td>onde</td>\n",
       "      <td>taxa</td>\n",
       "    </tr>\n",
       "    <tr>\n",
       "      <th>10</th>\n",
       "      <td>apenas</td>\n",
       "      <td>quase</td>\n",
       "    </tr>\n",
       "  </tbody>\n",
       "</table>\n",
       "</div>"
      ],
      "text/plain": [
       "   Dice before Term A Time Dice after Term A Time\n",
       "1                    então                 brasil\n",
       "2                     país              bolsonaro\n",
       "3                    paulo                  único\n",
       "4                     todo                twitter\n",
       "5                 deputado                   três\n",
       "6                  federal                  todos\n",
       "7                     dias                   todo\n",
       "8                    disse                    ter\n",
       "9                     onde                   taxa\n",
       "10                  apenas                  quase"
      ]
     },
     "execution_count": 205,
     "metadata": {},
     "output_type": "execute_result"
    }
   ],
   "source": [
    "tabela_DICE = pnd.DataFrame()\n",
    "tabela_DICE['Dice before Term A Time'] = tabela_04['Dice']\n",
    "tabela_DICE['Dice after Term A Time'] = tabela_top4['Dice']\n",
    "tabela_DICE"
   ]
  },
  {
   "cell_type": "markdown",
   "metadata": {
    "colab_type": "text",
    "id": "6iUkLWk7K9um"
   },
   "source": [
    "##### Top-10 palavras associadas aos Top-3 Documentos de 'mulheres'"
   ]
  },
  {
   "cell_type": "code",
   "execution_count": 206,
   "metadata": {
    "colab": {
     "base_uri": "https://localhost:8080/",
     "height": 359
    },
    "colab_type": "code",
    "id": "j9ll913XLSuR",
    "outputId": "ec289a16-c02a-44ff-cae1-d3347dcd9afe"
   },
   "outputs": [
    {
     "data": {
      "text/html": [
       "<div>\n",
       "<style scoped>\n",
       "    .dataframe tbody tr th:only-of-type {\n",
       "        vertical-align: middle;\n",
       "    }\n",
       "\n",
       "    .dataframe tbody tr th {\n",
       "        vertical-align: top;\n",
       "    }\n",
       "\n",
       "    .dataframe thead th {\n",
       "        text-align: right;\n",
       "    }\n",
       "</style>\n",
       "<table border=\"1\" class=\"dataframe\">\n",
       "  <thead>\n",
       "    <tr style=\"text-align: right;\">\n",
       "      <th></th>\n",
       "      <th>Dice before Term A Time</th>\n",
       "      <th>Dice after Term A Time</th>\n",
       "    </tr>\n",
       "  </thead>\n",
       "  <tbody>\n",
       "    <tr>\n",
       "      <th>1</th>\n",
       "      <td>seguro</td>\n",
       "      <td>porque</td>\n",
       "    </tr>\n",
       "    <tr>\n",
       "      <th>2</th>\n",
       "      <td>forte</td>\n",
       "      <td>ministro</td>\n",
       "    </tr>\n",
       "    <tr>\n",
       "      <th>3</th>\n",
       "      <td>economista</td>\n",
       "      <td>ainda</td>\n",
       "    </tr>\n",
       "    <tr>\n",
       "      <th>4</th>\n",
       "      <td>aposentadoria</td>\n",
       "      <td>vai</td>\n",
       "    </tr>\n",
       "    <tr>\n",
       "      <th>5</th>\n",
       "      <td>igual</td>\n",
       "      <td>unidos</td>\n",
       "    </tr>\n",
       "    <tr>\n",
       "      <th>6</th>\n",
       "      <td>homens</td>\n",
       "      <td>todo</td>\n",
       "    </tr>\n",
       "    <tr>\n",
       "      <th>7</th>\n",
       "      <td>aprovada</td>\n",
       "      <td>texto</td>\n",
       "    </tr>\n",
       "    <tr>\n",
       "      <th>8</th>\n",
       "      <td>volume</td>\n",
       "      <td>ter</td>\n",
       "    </tr>\n",
       "    <tr>\n",
       "      <th>9</th>\n",
       "      <td>verdadeiramente</td>\n",
       "      <td>sobre</td>\n",
       "    </tr>\n",
       "    <tr>\n",
       "      <th>10</th>\n",
       "      <td>velhice</td>\n",
       "      <td>ser</td>\n",
       "    </tr>\n",
       "  </tbody>\n",
       "</table>\n",
       "</div>"
      ],
      "text/plain": [
       "   Dice before Term A Time Dice after Term A Time\n",
       "1                   seguro                 porque\n",
       "2                    forte               ministro\n",
       "3               economista                  ainda\n",
       "4            aposentadoria                    vai\n",
       "5                    igual                 unidos\n",
       "6                   homens                   todo\n",
       "7                 aprovada                  texto\n",
       "8                   volume                    ter\n",
       "9          verdadeiramente                  sobre\n",
       "10                 velhice                    ser"
      ]
     },
     "execution_count": 206,
     "metadata": {},
     "output_type": "execute_result"
    }
   ],
   "source": [
    "tabela_DICE = pnd.DataFrame()\n",
    "tabela_DICE['Dice before Term A Time'] = tabela_05['Dice']\n",
    "tabela_DICE['Dice after Term A Time'] = tabela_top5['Dice']\n",
    "tabela_DICE"
   ]
  },
  {
   "cell_type": "markdown",
   "metadata": {
    "colab_type": "text",
    "id": "1Q1iuQEHCUD5"
   },
   "source": [
    "#### Top-5 Documentos"
   ]
  },
  {
   "cell_type": "code",
   "execution_count": 207,
   "metadata": {
    "colab": {},
    "colab_type": "code",
    "id": "xHGSwXFCCXc4"
   },
   "outputs": [],
   "source": [
    "k = 5\n",
    "rank_d1 = top_docs(consultas[0], k)\n",
    "rank_d2 = top_docs(consultas[1], k)\n",
    "rank_d3 = top_docs(consultas[2], k)\n",
    "rank_d4 = top_docs(consultas[3], k)\n",
    "rank_d5 = top_docs(consultas[4], k)"
   ]
  },
  {
   "cell_type": "code",
   "execution_count": 208,
   "metadata": {
    "colab": {},
    "colab_type": "code",
    "id": "a9gGhJ2bIQRs"
   },
   "outputs": [],
   "source": [
    "tabela_top1 = cria_tabela_de_metricas(consultas[0], rank_d1, k)\n",
    "tabela_top2 = cria_tabela_de_metricas(consultas[1], rank_d2, k)\n",
    "tabela_top3 = cria_tabela_de_metricas(consultas[2], rank_d3, k)\n",
    "tabela_top4 = cria_tabela_de_metricas(consultas[3], rank_d4, k)\n",
    "tabela_top5 = cria_tabela_de_metricas(consultas[4], rank_d5, k)"
   ]
  },
  {
   "cell_type": "markdown",
   "metadata": {
    "colab_type": "text",
    "id": "rZ9jGjGZNNSQ"
   },
   "source": [
    "##### Top-10 palavras associadas aos Top-5 Documentos de 'presidente'"
   ]
  },
  {
   "cell_type": "code",
   "execution_count": 209,
   "metadata": {
    "colab": {
     "base_uri": "https://localhost:8080/",
     "height": 359
    },
    "colab_type": "code",
    "id": "U215V1f7NWQD",
    "outputId": "1aeac202-5054-439a-b6b7-67f9847cf5be"
   },
   "outputs": [
    {
     "data": {
      "text/html": [
       "<div>\n",
       "<style scoped>\n",
       "    .dataframe tbody tr th:only-of-type {\n",
       "        vertical-align: middle;\n",
       "    }\n",
       "\n",
       "    .dataframe tbody tr th {\n",
       "        vertical-align: top;\n",
       "    }\n",
       "\n",
       "    .dataframe thead th {\n",
       "        text-align: right;\n",
       "    }\n",
       "</style>\n",
       "<table border=\"1\" class=\"dataframe\">\n",
       "  <thead>\n",
       "    <tr style=\"text-align: right;\">\n",
       "      <th></th>\n",
       "      <th>Dice before Term A Time</th>\n",
       "      <th>Dice after Term A Time</th>\n",
       "    </tr>\n",
       "  </thead>\n",
       "  <tbody>\n",
       "    <tr>\n",
       "      <th>1</th>\n",
       "      <td>bolsonaro</td>\n",
       "      <td>país</td>\n",
       "    </tr>\n",
       "    <tr>\n",
       "      <th>2</th>\n",
       "      <td>disse</td>\n",
       "      <td>jair</td>\n",
       "    </tr>\n",
       "    <tr>\n",
       "      <th>3</th>\n",
       "      <td>brasil</td>\n",
       "      <td>brasil</td>\n",
       "    </tr>\n",
       "    <tr>\n",
       "      <th>4</th>\n",
       "      <td>jair</td>\n",
       "      <td>bolsonaro</td>\n",
       "    </tr>\n",
       "    <tr>\n",
       "      <th>5</th>\n",
       "      <td>governo</td>\n",
       "      <td>vez</td>\n",
       "    </tr>\n",
       "    <tr>\n",
       "      <th>6</th>\n",
       "      <td>feira</td>\n",
       "      <td>sobre</td>\n",
       "    </tr>\n",
       "    <tr>\n",
       "      <th>7</th>\n",
       "      <td>nesta</td>\n",
       "      <td>ser</td>\n",
       "    </tr>\n",
       "    <tr>\n",
       "      <th>8</th>\n",
       "      <td>contra</td>\n",
       "      <td>paulo</td>\n",
       "    </tr>\n",
       "    <tr>\n",
       "      <th>9</th>\n",
       "      <td>ser</td>\n",
       "      <td>ministério</td>\n",
       "    </tr>\n",
       "    <tr>\n",
       "      <th>10</th>\n",
       "      <td>sobre</td>\n",
       "      <td>haddad</td>\n",
       "    </tr>\n",
       "  </tbody>\n",
       "</table>\n",
       "</div>"
      ],
      "text/plain": [
       "   Dice before Term A Time Dice after Term A Time\n",
       "1                bolsonaro                   país\n",
       "2                    disse                   jair\n",
       "3                   brasil                 brasil\n",
       "4                     jair              bolsonaro\n",
       "5                  governo                    vez\n",
       "6                    feira                  sobre\n",
       "7                    nesta                    ser\n",
       "8                   contra                  paulo\n",
       "9                      ser             ministério\n",
       "10                   sobre                 haddad"
      ]
     },
     "execution_count": 209,
     "metadata": {},
     "output_type": "execute_result"
    }
   ],
   "source": [
    "tabela_DICE = pnd.DataFrame()\n",
    "tabela_DICE['Dice before Term A Time'] = tabela_01['Dice']\n",
    "tabela_DICE['Dice after Term A Time'] = tabela_top1['Dice']\n",
    "tabela_DICE"
   ]
  },
  {
   "cell_type": "markdown",
   "metadata": {
    "colab_type": "text",
    "id": "SARrnvOqNO8A"
   },
   "source": [
    "##### Top-10 palavras associadas aos Top-5 Documentos de 'governo'"
   ]
  },
  {
   "cell_type": "code",
   "execution_count": 210,
   "metadata": {
    "colab": {
     "base_uri": "https://localhost:8080/",
     "height": 359
    },
    "colab_type": "code",
    "id": "IGZ7eBkhNXOy",
    "outputId": "70d584ba-9bcd-4a7a-9f97-a0165b1455ae"
   },
   "outputs": [
    {
     "data": {
      "text/html": [
       "<div>\n",
       "<style scoped>\n",
       "    .dataframe tbody tr th:only-of-type {\n",
       "        vertical-align: middle;\n",
       "    }\n",
       "\n",
       "    .dataframe tbody tr th {\n",
       "        vertical-align: top;\n",
       "    }\n",
       "\n",
       "    .dataframe thead th {\n",
       "        text-align: right;\n",
       "    }\n",
       "</style>\n",
       "<table border=\"1\" class=\"dataframe\">\n",
       "  <thead>\n",
       "    <tr style=\"text-align: right;\">\n",
       "      <th></th>\n",
       "      <th>Dice before Term A Time</th>\n",
       "      <th>Dice after Term A Time</th>\n",
       "    </tr>\n",
       "  </thead>\n",
       "  <tbody>\n",
       "    <tr>\n",
       "      <th>1</th>\n",
       "      <td>bolsonaro</td>\n",
       "      <td>ser</td>\n",
       "    </tr>\n",
       "    <tr>\n",
       "      <th>2</th>\n",
       "      <td>presidente</td>\n",
       "      <td>parte</td>\n",
       "    </tr>\n",
       "    <tr>\n",
       "      <th>3</th>\n",
       "      <td>brasil</td>\n",
       "      <td>brasil</td>\n",
       "    </tr>\n",
       "    <tr>\n",
       "      <th>4</th>\n",
       "      <td>jair</td>\n",
       "      <td>todos</td>\n",
       "    </tr>\n",
       "    <tr>\n",
       "      <th>5</th>\n",
       "      <td>disse</td>\n",
       "      <td>todo</td>\n",
       "    </tr>\n",
       "    <tr>\n",
       "      <th>6</th>\n",
       "      <td>afirmou</td>\n",
       "      <td>situação</td>\n",
       "    </tr>\n",
       "    <tr>\n",
       "      <th>7</th>\n",
       "      <td>paulo</td>\n",
       "      <td>responsável</td>\n",
       "    </tr>\n",
       "    <tr>\n",
       "      <th>8</th>\n",
       "      <td>ainda</td>\n",
       "      <td>relação</td>\n",
       "    </tr>\n",
       "    <tr>\n",
       "      <th>9</th>\n",
       "      <td>país</td>\n",
       "      <td>primeiro</td>\n",
       "    </tr>\n",
       "    <tr>\n",
       "      <th>10</th>\n",
       "      <td>ser</td>\n",
       "      <td>presidente</td>\n",
       "    </tr>\n",
       "  </tbody>\n",
       "</table>\n",
       "</div>"
      ],
      "text/plain": [
       "   Dice before Term A Time Dice after Term A Time\n",
       "1                bolsonaro                    ser\n",
       "2               presidente                  parte\n",
       "3                   brasil                 brasil\n",
       "4                     jair                  todos\n",
       "5                    disse                   todo\n",
       "6                  afirmou               situação\n",
       "7                    paulo            responsável\n",
       "8                    ainda                relação\n",
       "9                     país               primeiro\n",
       "10                     ser             presidente"
      ]
     },
     "execution_count": 210,
     "metadata": {},
     "output_type": "execute_result"
    }
   ],
   "source": [
    "tabela_DICE = pnd.DataFrame()\n",
    "tabela_DICE['Dice before Term A Time'] = tabela_02['Dice']\n",
    "tabela_DICE['Dice after Term A Time'] = tabela_top2['Dice']\n",
    "tabela_DICE"
   ]
  },
  {
   "cell_type": "markdown",
   "metadata": {
    "colab_type": "text",
    "id": "omjRFa-YNPqA"
   },
   "source": [
    "##### Top-10 palavras associadas aos Top-5 Documentos de 'país'"
   ]
  },
  {
   "cell_type": "code",
   "execution_count": 211,
   "metadata": {
    "colab": {
     "base_uri": "https://localhost:8080/",
     "height": 359
    },
    "colab_type": "code",
    "id": "v1Te5jW5NYKU",
    "outputId": "7155ef7c-5402-452a-fa5a-e01607841c78"
   },
   "outputs": [
    {
     "data": {
      "text/html": [
       "<div>\n",
       "<style scoped>\n",
       "    .dataframe tbody tr th:only-of-type {\n",
       "        vertical-align: middle;\n",
       "    }\n",
       "\n",
       "    .dataframe tbody tr th {\n",
       "        vertical-align: top;\n",
       "    }\n",
       "\n",
       "    .dataframe thead th {\n",
       "        text-align: right;\n",
       "    }\n",
       "</style>\n",
       "<table border=\"1\" class=\"dataframe\">\n",
       "  <thead>\n",
       "    <tr style=\"text-align: right;\">\n",
       "      <th></th>\n",
       "      <th>Dice before Term A Time</th>\n",
       "      <th>Dice after Term A Time</th>\n",
       "    </tr>\n",
       "  </thead>\n",
       "  <tbody>\n",
       "    <tr>\n",
       "      <th>1</th>\n",
       "      <td>brasil</td>\n",
       "      <td>brasil</td>\n",
       "    </tr>\n",
       "    <tr>\n",
       "      <th>2</th>\n",
       "      <td>governo</td>\n",
       "      <td>presidente</td>\n",
       "    </tr>\n",
       "    <tr>\n",
       "      <th>3</th>\n",
       "      <td>nacional</td>\n",
       "      <td>paulo</td>\n",
       "    </tr>\n",
       "    <tr>\n",
       "      <th>4</th>\n",
       "      <td>paulo</td>\n",
       "      <td>mundo</td>\n",
       "    </tr>\n",
       "    <tr>\n",
       "      <th>5</th>\n",
       "      <td>mundo</td>\n",
       "      <td>milhões</td>\n",
       "    </tr>\n",
       "    <tr>\n",
       "      <th>6</th>\n",
       "      <td>grande</td>\n",
       "      <td>governo</td>\n",
       "    </tr>\n",
       "    <tr>\n",
       "      <th>7</th>\n",
       "      <td>pessoas</td>\n",
       "      <td>durante</td>\n",
       "    </tr>\n",
       "    <tr>\n",
       "      <th>8</th>\n",
       "      <td>bolsonaro</td>\n",
       "      <td>bolsonaro</td>\n",
       "    </tr>\n",
       "    <tr>\n",
       "      <th>9</th>\n",
       "      <td>países</td>\n",
       "      <td>ainda</td>\n",
       "    </tr>\n",
       "    <tr>\n",
       "      <th>10</th>\n",
       "      <td>afirmou</td>\n",
       "      <td>vai</td>\n",
       "    </tr>\n",
       "  </tbody>\n",
       "</table>\n",
       "</div>"
      ],
      "text/plain": [
       "   Dice before Term A Time Dice after Term A Time\n",
       "1                   brasil                 brasil\n",
       "2                  governo             presidente\n",
       "3                 nacional                  paulo\n",
       "4                    paulo                  mundo\n",
       "5                    mundo                milhões\n",
       "6                   grande                governo\n",
       "7                  pessoas                durante\n",
       "8                bolsonaro              bolsonaro\n",
       "9                   países                  ainda\n",
       "10                 afirmou                    vai"
      ]
     },
     "execution_count": 211,
     "metadata": {},
     "output_type": "execute_result"
    }
   ],
   "source": [
    "tabela_DICE = pnd.DataFrame()\n",
    "tabela_DICE['Dice before Term A Time'] = tabela_03['Dice']\n",
    "tabela_DICE['Dice after Term A Time'] = tabela_top3['Dice']\n",
    "tabela_DICE"
   ]
  },
  {
   "cell_type": "markdown",
   "metadata": {
    "colab_type": "text",
    "id": "WpghjeDzNP4Y"
   },
   "source": [
    "##### Top-10 palavras associadas aos Top-5 Documentos de 'pessoas'"
   ]
  },
  {
   "cell_type": "code",
   "execution_count": 212,
   "metadata": {
    "colab": {
     "base_uri": "https://localhost:8080/",
     "height": 359
    },
    "colab_type": "code",
    "id": "9mDvBdIhNZJV",
    "outputId": "0965966d-ccd9-4418-d6df-43d95652e280"
   },
   "outputs": [
    {
     "data": {
      "text/html": [
       "<div>\n",
       "<style scoped>\n",
       "    .dataframe tbody tr th:only-of-type {\n",
       "        vertical-align: middle;\n",
       "    }\n",
       "\n",
       "    .dataframe tbody tr th {\n",
       "        vertical-align: top;\n",
       "    }\n",
       "\n",
       "    .dataframe thead th {\n",
       "        text-align: right;\n",
       "    }\n",
       "</style>\n",
       "<table border=\"1\" class=\"dataframe\">\n",
       "  <thead>\n",
       "    <tr style=\"text-align: right;\">\n",
       "      <th></th>\n",
       "      <th>Dice before Term A Time</th>\n",
       "      <th>Dice after Term A Time</th>\n",
       "    </tr>\n",
       "  </thead>\n",
       "  <tbody>\n",
       "    <tr>\n",
       "      <th>1</th>\n",
       "      <td>então</td>\n",
       "      <td>ministro</td>\n",
       "    </tr>\n",
       "    <tr>\n",
       "      <th>2</th>\n",
       "      <td>país</td>\n",
       "      <td>federal</td>\n",
       "    </tr>\n",
       "    <tr>\n",
       "      <th>3</th>\n",
       "      <td>paulo</td>\n",
       "      <td>brasil</td>\n",
       "    </tr>\n",
       "    <tr>\n",
       "      <th>4</th>\n",
       "      <td>todo</td>\n",
       "      <td>bolsonaro</td>\n",
       "    </tr>\n",
       "    <tr>\n",
       "      <th>5</th>\n",
       "      <td>deputado</td>\n",
       "      <td>ainda</td>\n",
       "    </tr>\n",
       "    <tr>\n",
       "      <th>6</th>\n",
       "      <td>federal</td>\n",
       "      <td>três</td>\n",
       "    </tr>\n",
       "    <tr>\n",
       "      <th>7</th>\n",
       "      <td>dias</td>\n",
       "      <td>todo</td>\n",
       "    </tr>\n",
       "    <tr>\n",
       "      <th>8</th>\n",
       "      <td>disse</td>\n",
       "      <td>ter</td>\n",
       "    </tr>\n",
       "    <tr>\n",
       "      <th>9</th>\n",
       "      <td>onde</td>\n",
       "      <td>tempo</td>\n",
       "    </tr>\n",
       "    <tr>\n",
       "      <th>10</th>\n",
       "      <td>apenas</td>\n",
       "      <td>ser</td>\n",
       "    </tr>\n",
       "  </tbody>\n",
       "</table>\n",
       "</div>"
      ],
      "text/plain": [
       "   Dice before Term A Time Dice after Term A Time\n",
       "1                    então               ministro\n",
       "2                     país                federal\n",
       "3                    paulo                 brasil\n",
       "4                     todo              bolsonaro\n",
       "5                 deputado                  ainda\n",
       "6                  federal                   três\n",
       "7                     dias                   todo\n",
       "8                    disse                    ter\n",
       "9                     onde                  tempo\n",
       "10                  apenas                    ser"
      ]
     },
     "execution_count": 212,
     "metadata": {},
     "output_type": "execute_result"
    }
   ],
   "source": [
    "tabela_DICE = pnd.DataFrame()\n",
    "tabela_DICE['Dice before Term A Time'] = tabela_04['Dice']\n",
    "tabela_DICE['Dice after Term A Time'] = tabela_top4['Dice']\n",
    "tabela_DICE"
   ]
  },
  {
   "cell_type": "markdown",
   "metadata": {
    "colab_type": "text",
    "id": "3Ozfw9w8NQJI"
   },
   "source": [
    "##### Top-10 palavras associadas aos Top-5 Documentos de 'mulheres'"
   ]
  },
  {
   "cell_type": "code",
   "execution_count": 213,
   "metadata": {
    "colab": {
     "base_uri": "https://localhost:8080/",
     "height": 359
    },
    "colab_type": "code",
    "id": "gcO1mkqINQJJ",
    "outputId": "f14504b4-67a4-4bb8-a8ab-8b443302bb1d"
   },
   "outputs": [
    {
     "data": {
      "text/html": [
       "<div>\n",
       "<style scoped>\n",
       "    .dataframe tbody tr th:only-of-type {\n",
       "        vertical-align: middle;\n",
       "    }\n",
       "\n",
       "    .dataframe tbody tr th {\n",
       "        vertical-align: top;\n",
       "    }\n",
       "\n",
       "    .dataframe thead th {\n",
       "        text-align: right;\n",
       "    }\n",
       "</style>\n",
       "<table border=\"1\" class=\"dataframe\">\n",
       "  <thead>\n",
       "    <tr style=\"text-align: right;\">\n",
       "      <th></th>\n",
       "      <th>Dice before Term A Time</th>\n",
       "      <th>Dice after Term A Time</th>\n",
       "    </tr>\n",
       "  </thead>\n",
       "  <tbody>\n",
       "    <tr>\n",
       "      <th>1</th>\n",
       "      <td>seguro</td>\n",
       "      <td>porque</td>\n",
       "    </tr>\n",
       "    <tr>\n",
       "      <th>2</th>\n",
       "      <td>forte</td>\n",
       "      <td>ministro</td>\n",
       "    </tr>\n",
       "    <tr>\n",
       "      <th>3</th>\n",
       "      <td>economista</td>\n",
       "      <td>ainda</td>\n",
       "    </tr>\n",
       "    <tr>\n",
       "      <th>4</th>\n",
       "      <td>aposentadoria</td>\n",
       "      <td>vai</td>\n",
       "    </tr>\n",
       "    <tr>\n",
       "      <th>5</th>\n",
       "      <td>igual</td>\n",
       "      <td>unidos</td>\n",
       "    </tr>\n",
       "    <tr>\n",
       "      <th>6</th>\n",
       "      <td>homens</td>\n",
       "      <td>todo</td>\n",
       "    </tr>\n",
       "    <tr>\n",
       "      <th>7</th>\n",
       "      <td>aprovada</td>\n",
       "      <td>texto</td>\n",
       "    </tr>\n",
       "    <tr>\n",
       "      <th>8</th>\n",
       "      <td>volume</td>\n",
       "      <td>ter</td>\n",
       "    </tr>\n",
       "    <tr>\n",
       "      <th>9</th>\n",
       "      <td>verdadeiramente</td>\n",
       "      <td>sobre</td>\n",
       "    </tr>\n",
       "    <tr>\n",
       "      <th>10</th>\n",
       "      <td>velhice</td>\n",
       "      <td>ser</td>\n",
       "    </tr>\n",
       "  </tbody>\n",
       "</table>\n",
       "</div>"
      ],
      "text/plain": [
       "   Dice before Term A Time Dice after Term A Time\n",
       "1                   seguro                 porque\n",
       "2                    forte               ministro\n",
       "3               economista                  ainda\n",
       "4            aposentadoria                    vai\n",
       "5                    igual                 unidos\n",
       "6                   homens                   todo\n",
       "7                 aprovada                  texto\n",
       "8                   volume                    ter\n",
       "9          verdadeiramente                  sobre\n",
       "10                 velhice                    ser"
      ]
     },
     "execution_count": 213,
     "metadata": {},
     "output_type": "execute_result"
    }
   ],
   "source": [
    "tabela_DICE = pnd.DataFrame()\n",
    "tabela_DICE['Dice before Term A Time'] = tabela_05['Dice']\n",
    "tabela_DICE['Dice after Term A Time'] = tabela_top5['Dice']\n",
    "tabela_DICE"
   ]
  },
  {
   "cell_type": "markdown",
   "metadata": {
    "colab_type": "text",
    "id": "9myz6DhDN5dX"
   },
   "source": [
    "#### Top-10 Documentos\n"
   ]
  },
  {
   "cell_type": "code",
   "execution_count": 214,
   "metadata": {
    "colab": {},
    "colab_type": "code",
    "id": "cFZ1i0IiN5dZ"
   },
   "outputs": [],
   "source": [
    "k = 10\n",
    "rank_d1 = top_docs(consultas[0], k)\n",
    "rank_d2 = top_docs(consultas[1], k)\n",
    "rank_d3 = top_docs(consultas[2], k)\n",
    "rank_d4 = top_docs(consultas[3], k)\n",
    "rank_d5 = top_docs(consultas[4], k)"
   ]
  },
  {
   "cell_type": "code",
   "execution_count": 215,
   "metadata": {
    "colab": {},
    "colab_type": "code",
    "id": "KiUO7wGhN5df"
   },
   "outputs": [],
   "source": [
    "tabela_top1 = cria_tabela_de_metricas(consultas[0], rank_d1, k)\n",
    "tabela_top2 = cria_tabela_de_metricas(consultas[1], rank_d2, k)\n",
    "tabela_top3 = cria_tabela_de_metricas(consultas[2], rank_d3, k)\n",
    "tabela_top4 = cria_tabela_de_metricas(consultas[3], rank_d4, k)\n",
    "tabela_top5 = cria_tabela_de_metricas(consultas[4], rank_d5, k)"
   ]
  },
  {
   "cell_type": "markdown",
   "metadata": {
    "colab_type": "text",
    "id": "NmeQfVhPN5di"
   },
   "source": [
    "##### Top-10 palavras associadas aos Top-10 Documentos de 'presidente'"
   ]
  },
  {
   "cell_type": "code",
   "execution_count": 216,
   "metadata": {
    "colab": {
     "base_uri": "https://localhost:8080/",
     "height": 359
    },
    "colab_type": "code",
    "id": "uwi6gXuIN5dk",
    "outputId": "5200a081-3d54-4ee4-8d39-5d0a931d1945"
   },
   "outputs": [
    {
     "data": {
      "text/html": [
       "<div>\n",
       "<style scoped>\n",
       "    .dataframe tbody tr th:only-of-type {\n",
       "        vertical-align: middle;\n",
       "    }\n",
       "\n",
       "    .dataframe tbody tr th {\n",
       "        vertical-align: top;\n",
       "    }\n",
       "\n",
       "    .dataframe thead th {\n",
       "        text-align: right;\n",
       "    }\n",
       "</style>\n",
       "<table border=\"1\" class=\"dataframe\">\n",
       "  <thead>\n",
       "    <tr style=\"text-align: right;\">\n",
       "      <th></th>\n",
       "      <th>Dice before Term A Time</th>\n",
       "      <th>Dice after Term A Time</th>\n",
       "    </tr>\n",
       "  </thead>\n",
       "  <tbody>\n",
       "    <tr>\n",
       "      <th>1</th>\n",
       "      <td>bolsonaro</td>\n",
       "      <td>país</td>\n",
       "    </tr>\n",
       "    <tr>\n",
       "      <th>2</th>\n",
       "      <td>disse</td>\n",
       "      <td>brasil</td>\n",
       "    </tr>\n",
       "    <tr>\n",
       "      <th>3</th>\n",
       "      <td>brasil</td>\n",
       "      <td>sobre</td>\n",
       "    </tr>\n",
       "    <tr>\n",
       "      <th>4</th>\n",
       "      <td>jair</td>\n",
       "      <td>lula</td>\n",
       "    </tr>\n",
       "    <tr>\n",
       "      <th>5</th>\n",
       "      <td>governo</td>\n",
       "      <td>disse</td>\n",
       "    </tr>\n",
       "    <tr>\n",
       "      <th>6</th>\n",
       "      <td>feira</td>\n",
       "      <td>contra</td>\n",
       "    </tr>\n",
       "    <tr>\n",
       "      <th>7</th>\n",
       "      <td>nesta</td>\n",
       "      <td>bolsonaro</td>\n",
       "    </tr>\n",
       "    <tr>\n",
       "      <th>8</th>\n",
       "      <td>contra</td>\n",
       "      <td>ano</td>\n",
       "    </tr>\n",
       "    <tr>\n",
       "      <th>9</th>\n",
       "      <td>ser</td>\n",
       "      <td>vez</td>\n",
       "    </tr>\n",
       "    <tr>\n",
       "      <th>10</th>\n",
       "      <td>sobre</td>\n",
       "      <td>ser</td>\n",
       "    </tr>\n",
       "  </tbody>\n",
       "</table>\n",
       "</div>"
      ],
      "text/plain": [
       "   Dice before Term A Time Dice after Term A Time\n",
       "1                bolsonaro                   país\n",
       "2                    disse                 brasil\n",
       "3                   brasil                  sobre\n",
       "4                     jair                   lula\n",
       "5                  governo                  disse\n",
       "6                    feira                 contra\n",
       "7                    nesta              bolsonaro\n",
       "8                   contra                    ano\n",
       "9                      ser                    vez\n",
       "10                   sobre                    ser"
      ]
     },
     "execution_count": 216,
     "metadata": {},
     "output_type": "execute_result"
    }
   ],
   "source": [
    "tabela_DICE = pnd.DataFrame()\n",
    "tabela_DICE['Dice before Term A Time'] = tabela_01['Dice']\n",
    "tabela_DICE['Dice after Term A Time'] = tabela_top1['Dice']\n",
    "tabela_DICE"
   ]
  },
  {
   "cell_type": "markdown",
   "metadata": {
    "colab_type": "text",
    "id": "XPbP8TBSN5dp"
   },
   "source": [
    "##### Top-10 palavras associadas aos Top-10 Documentos de 'governo'"
   ]
  },
  {
   "cell_type": "code",
   "execution_count": 217,
   "metadata": {
    "colab": {
     "base_uri": "https://localhost:8080/",
     "height": 359
    },
    "colab_type": "code",
    "id": "3vgYR--MN5dq",
    "outputId": "ae7a51af-f44a-4148-9110-75d42039dd2c"
   },
   "outputs": [
    {
     "data": {
      "text/html": [
       "<div>\n",
       "<style scoped>\n",
       "    .dataframe tbody tr th:only-of-type {\n",
       "        vertical-align: middle;\n",
       "    }\n",
       "\n",
       "    .dataframe tbody tr th {\n",
       "        vertical-align: top;\n",
       "    }\n",
       "\n",
       "    .dataframe thead th {\n",
       "        text-align: right;\n",
       "    }\n",
       "</style>\n",
       "<table border=\"1\" class=\"dataframe\">\n",
       "  <thead>\n",
       "    <tr style=\"text-align: right;\">\n",
       "      <th></th>\n",
       "      <th>Dice before Term A Time</th>\n",
       "      <th>Dice after Term A Time</th>\n",
       "    </tr>\n",
       "  </thead>\n",
       "  <tbody>\n",
       "    <tr>\n",
       "      <th>1</th>\n",
       "      <td>bolsonaro</td>\n",
       "      <td>brasil</td>\n",
       "    </tr>\n",
       "    <tr>\n",
       "      <th>2</th>\n",
       "      <td>presidente</td>\n",
       "      <td>disse</td>\n",
       "    </tr>\n",
       "    <tr>\n",
       "      <th>3</th>\n",
       "      <td>brasil</td>\n",
       "      <td>bolsonaro</td>\n",
       "    </tr>\n",
       "    <tr>\n",
       "      <th>4</th>\n",
       "      <td>jair</td>\n",
       "      <td>ser</td>\n",
       "    </tr>\n",
       "    <tr>\n",
       "      <th>5</th>\n",
       "      <td>disse</td>\n",
       "      <td>presidente</td>\n",
       "    </tr>\n",
       "    <tr>\n",
       "      <th>6</th>\n",
       "      <td>afirmou</td>\n",
       "      <td>política</td>\n",
       "    </tr>\n",
       "    <tr>\n",
       "      <th>7</th>\n",
       "      <td>paulo</td>\n",
       "      <td>paulo</td>\n",
       "    </tr>\n",
       "    <tr>\n",
       "      <th>8</th>\n",
       "      <td>ainda</td>\n",
       "      <td>jair</td>\n",
       "    </tr>\n",
       "    <tr>\n",
       "      <th>9</th>\n",
       "      <td>país</td>\n",
       "      <td>grande</td>\n",
       "    </tr>\n",
       "    <tr>\n",
       "      <th>10</th>\n",
       "      <td>ser</td>\n",
       "      <td>apenas</td>\n",
       "    </tr>\n",
       "  </tbody>\n",
       "</table>\n",
       "</div>"
      ],
      "text/plain": [
       "   Dice before Term A Time Dice after Term A Time\n",
       "1                bolsonaro                 brasil\n",
       "2               presidente                  disse\n",
       "3                   brasil              bolsonaro\n",
       "4                     jair                    ser\n",
       "5                    disse             presidente\n",
       "6                  afirmou               política\n",
       "7                    paulo                  paulo\n",
       "8                    ainda                   jair\n",
       "9                     país                 grande\n",
       "10                     ser                 apenas"
      ]
     },
     "execution_count": 217,
     "metadata": {},
     "output_type": "execute_result"
    }
   ],
   "source": [
    "tabela_DICE = pnd.DataFrame()\n",
    "tabela_DICE['Dice before Term A Time'] = tabela_02['Dice']\n",
    "tabela_DICE['Dice after Term A Time'] = tabela_top2['Dice']\n",
    "tabela_DICE"
   ]
  },
  {
   "cell_type": "markdown",
   "metadata": {
    "colab_type": "text",
    "id": "tfMNNPQXN5dx"
   },
   "source": [
    "##### Top-10 palavras associadas aos Top-10 Documentos de 'país'"
   ]
  },
  {
   "cell_type": "code",
   "execution_count": 218,
   "metadata": {
    "colab": {
     "base_uri": "https://localhost:8080/",
     "height": 359
    },
    "colab_type": "code",
    "id": "rkIJpsq9N5dy",
    "outputId": "5a277f5f-a8b8-4575-e430-94839a0d5177"
   },
   "outputs": [
    {
     "data": {
      "text/html": [
       "<div>\n",
       "<style scoped>\n",
       "    .dataframe tbody tr th:only-of-type {\n",
       "        vertical-align: middle;\n",
       "    }\n",
       "\n",
       "    .dataframe tbody tr th {\n",
       "        vertical-align: top;\n",
       "    }\n",
       "\n",
       "    .dataframe thead th {\n",
       "        text-align: right;\n",
       "    }\n",
       "</style>\n",
       "<table border=\"1\" class=\"dataframe\">\n",
       "  <thead>\n",
       "    <tr style=\"text-align: right;\">\n",
       "      <th></th>\n",
       "      <th>Dice before Term A Time</th>\n",
       "      <th>Dice after Term A Time</th>\n",
       "    </tr>\n",
       "  </thead>\n",
       "  <tbody>\n",
       "    <tr>\n",
       "      <th>1</th>\n",
       "      <td>brasil</td>\n",
       "      <td>brasil</td>\n",
       "    </tr>\n",
       "    <tr>\n",
       "      <th>2</th>\n",
       "      <td>governo</td>\n",
       "      <td>sobre</td>\n",
       "    </tr>\n",
       "    <tr>\n",
       "      <th>3</th>\n",
       "      <td>nacional</td>\n",
       "      <td>presidente</td>\n",
       "    </tr>\n",
       "    <tr>\n",
       "      <th>4</th>\n",
       "      <td>paulo</td>\n",
       "      <td>unidos</td>\n",
       "    </tr>\n",
       "    <tr>\n",
       "      <th>5</th>\n",
       "      <td>mundo</td>\n",
       "      <td>paulo</td>\n",
       "    </tr>\n",
       "    <tr>\n",
       "      <th>6</th>\n",
       "      <td>grande</td>\n",
       "      <td>nacional</td>\n",
       "    </tr>\n",
       "    <tr>\n",
       "      <th>7</th>\n",
       "      <td>pessoas</td>\n",
       "      <td>feira</td>\n",
       "    </tr>\n",
       "    <tr>\n",
       "      <th>8</th>\n",
       "      <td>bolsonaro</td>\n",
       "      <td>estados</td>\n",
       "    </tr>\n",
       "    <tr>\n",
       "      <th>9</th>\n",
       "      <td>países</td>\n",
       "      <td>segundo</td>\n",
       "    </tr>\n",
       "    <tr>\n",
       "      <th>10</th>\n",
       "      <td>afirmou</td>\n",
       "      <td>grande</td>\n",
       "    </tr>\n",
       "  </tbody>\n",
       "</table>\n",
       "</div>"
      ],
      "text/plain": [
       "   Dice before Term A Time Dice after Term A Time\n",
       "1                   brasil                 brasil\n",
       "2                  governo                  sobre\n",
       "3                 nacional             presidente\n",
       "4                    paulo                 unidos\n",
       "5                    mundo                  paulo\n",
       "6                   grande               nacional\n",
       "7                  pessoas                  feira\n",
       "8                bolsonaro                estados\n",
       "9                   países                segundo\n",
       "10                 afirmou                 grande"
      ]
     },
     "execution_count": 218,
     "metadata": {},
     "output_type": "execute_result"
    }
   ],
   "source": [
    "tabela_DICE = pnd.DataFrame()\n",
    "tabela_DICE['Dice before Term A Time'] = tabela_03['Dice']\n",
    "tabela_DICE['Dice after Term A Time'] = tabela_top3['Dice']\n",
    "tabela_DICE"
   ]
  },
  {
   "cell_type": "markdown",
   "metadata": {
    "colab_type": "text",
    "id": "KBNUpUilN5d5"
   },
   "source": [
    "##### Top-10 palavras associadas aos Top-10 Documentos de 'pessoas'"
   ]
  },
  {
   "cell_type": "code",
   "execution_count": 219,
   "metadata": {
    "colab": {
     "base_uri": "https://localhost:8080/",
     "height": 359
    },
    "colab_type": "code",
    "id": "YRjs8YHiN5d6",
    "outputId": "88114cb0-2d7c-4862-c8b3-e4f966532078"
   },
   "outputs": [
    {
     "data": {
      "text/html": [
       "<div>\n",
       "<style scoped>\n",
       "    .dataframe tbody tr th:only-of-type {\n",
       "        vertical-align: middle;\n",
       "    }\n",
       "\n",
       "    .dataframe tbody tr th {\n",
       "        vertical-align: top;\n",
       "    }\n",
       "\n",
       "    .dataframe thead th {\n",
       "        text-align: right;\n",
       "    }\n",
       "</style>\n",
       "<table border=\"1\" class=\"dataframe\">\n",
       "  <thead>\n",
       "    <tr style=\"text-align: right;\">\n",
       "      <th></th>\n",
       "      <th>Dice before Term A Time</th>\n",
       "      <th>Dice after Term A Time</th>\n",
       "    </tr>\n",
       "  </thead>\n",
       "  <tbody>\n",
       "    <tr>\n",
       "      <th>1</th>\n",
       "      <td>então</td>\n",
       "      <td>ano</td>\n",
       "    </tr>\n",
       "    <tr>\n",
       "      <th>2</th>\n",
       "      <td>país</td>\n",
       "      <td>presidente</td>\n",
       "    </tr>\n",
       "    <tr>\n",
       "      <th>3</th>\n",
       "      <td>paulo</td>\n",
       "      <td>federal</td>\n",
       "    </tr>\n",
       "    <tr>\n",
       "      <th>4</th>\n",
       "      <td>todo</td>\n",
       "      <td>brasil</td>\n",
       "    </tr>\n",
       "    <tr>\n",
       "      <th>5</th>\n",
       "      <td>deputado</td>\n",
       "      <td>bolsonaro</td>\n",
       "    </tr>\n",
       "    <tr>\n",
       "      <th>6</th>\n",
       "      <td>federal</td>\n",
       "      <td>ainda</td>\n",
       "    </tr>\n",
       "    <tr>\n",
       "      <th>7</th>\n",
       "      <td>dias</td>\n",
       "      <td>ter</td>\n",
       "    </tr>\n",
       "    <tr>\n",
       "      <th>8</th>\n",
       "      <td>disse</td>\n",
       "      <td>ser</td>\n",
       "    </tr>\n",
       "    <tr>\n",
       "      <th>9</th>\n",
       "      <td>onde</td>\n",
       "      <td>porque</td>\n",
       "    </tr>\n",
       "    <tr>\n",
       "      <th>10</th>\n",
       "      <td>apenas</td>\n",
       "      <td>paulo</td>\n",
       "    </tr>\n",
       "  </tbody>\n",
       "</table>\n",
       "</div>"
      ],
      "text/plain": [
       "   Dice before Term A Time Dice after Term A Time\n",
       "1                    então                    ano\n",
       "2                     país             presidente\n",
       "3                    paulo                federal\n",
       "4                     todo                 brasil\n",
       "5                 deputado              bolsonaro\n",
       "6                  federal                  ainda\n",
       "7                     dias                    ter\n",
       "8                    disse                    ser\n",
       "9                     onde                 porque\n",
       "10                  apenas                  paulo"
      ]
     },
     "execution_count": 219,
     "metadata": {},
     "output_type": "execute_result"
    }
   ],
   "source": [
    "tabela_DICE = pnd.DataFrame()\n",
    "tabela_DICE['Dice before Term A Time'] = tabela_04['Dice']\n",
    "tabela_DICE['Dice after Term A Time'] = tabela_top4['Dice']\n",
    "tabela_DICE"
   ]
  },
  {
   "cell_type": "markdown",
   "metadata": {
    "colab_type": "text",
    "id": "wznLUvOaN5eB"
   },
   "source": [
    "##### Top-10 palavras associadas aos Top-10 Documentos de 'mulheres'"
   ]
  },
  {
   "cell_type": "code",
   "execution_count": 220,
   "metadata": {
    "colab": {
     "base_uri": "https://localhost:8080/",
     "height": 359
    },
    "colab_type": "code",
    "id": "oKhaeVkjN5eC",
    "outputId": "caa5dea2-16ca-4e79-8009-31d11ced9d16"
   },
   "outputs": [
    {
     "data": {
      "text/html": [
       "<div>\n",
       "<style scoped>\n",
       "    .dataframe tbody tr th:only-of-type {\n",
       "        vertical-align: middle;\n",
       "    }\n",
       "\n",
       "    .dataframe tbody tr th {\n",
       "        vertical-align: top;\n",
       "    }\n",
       "\n",
       "    .dataframe thead th {\n",
       "        text-align: right;\n",
       "    }\n",
       "</style>\n",
       "<table border=\"1\" class=\"dataframe\">\n",
       "  <thead>\n",
       "    <tr style=\"text-align: right;\">\n",
       "      <th></th>\n",
       "      <th>Dice before Term A Time</th>\n",
       "      <th>Dice after Term A Time</th>\n",
       "    </tr>\n",
       "  </thead>\n",
       "  <tbody>\n",
       "    <tr>\n",
       "      <th>1</th>\n",
       "      <td>seguro</td>\n",
       "      <td>porque</td>\n",
       "    </tr>\n",
       "    <tr>\n",
       "      <th>2</th>\n",
       "      <td>forte</td>\n",
       "      <td>ministro</td>\n",
       "    </tr>\n",
       "    <tr>\n",
       "      <th>3</th>\n",
       "      <td>economista</td>\n",
       "      <td>ainda</td>\n",
       "    </tr>\n",
       "    <tr>\n",
       "      <th>4</th>\n",
       "      <td>aposentadoria</td>\n",
       "      <td>vai</td>\n",
       "    </tr>\n",
       "    <tr>\n",
       "      <th>5</th>\n",
       "      <td>igual</td>\n",
       "      <td>unidos</td>\n",
       "    </tr>\n",
       "    <tr>\n",
       "      <th>6</th>\n",
       "      <td>homens</td>\n",
       "      <td>todo</td>\n",
       "    </tr>\n",
       "    <tr>\n",
       "      <th>7</th>\n",
       "      <td>aprovada</td>\n",
       "      <td>texto</td>\n",
       "    </tr>\n",
       "    <tr>\n",
       "      <th>8</th>\n",
       "      <td>volume</td>\n",
       "      <td>ter</td>\n",
       "    </tr>\n",
       "    <tr>\n",
       "      <th>9</th>\n",
       "      <td>verdadeiramente</td>\n",
       "      <td>sobre</td>\n",
       "    </tr>\n",
       "    <tr>\n",
       "      <th>10</th>\n",
       "      <td>velhice</td>\n",
       "      <td>ser</td>\n",
       "    </tr>\n",
       "  </tbody>\n",
       "</table>\n",
       "</div>"
      ],
      "text/plain": [
       "   Dice before Term A Time Dice after Term A Time\n",
       "1                   seguro                 porque\n",
       "2                    forte               ministro\n",
       "3               economista                  ainda\n",
       "4            aposentadoria                    vai\n",
       "5                    igual                 unidos\n",
       "6                   homens                   todo\n",
       "7                 aprovada                  texto\n",
       "8                   volume                    ter\n",
       "9          verdadeiramente                  sobre\n",
       "10                 velhice                    ser"
      ]
     },
     "execution_count": 220,
     "metadata": {},
     "output_type": "execute_result"
    }
   ],
   "source": [
    "tabela_DICE = pnd.DataFrame()\n",
    "tabela_DICE['Dice before Term A Time'] = tabela_05['Dice']\n",
    "tabela_DICE['Dice after Term A Time'] = tabela_top5['Dice']\n",
    "tabela_DICE"
   ]
  },
  {
   "cell_type": "markdown",
   "metadata": {
    "colab_type": "text",
    "id": "iY40yOSCu_Z5"
   },
   "source": [
    "#### Resultado:\n",
    "\n",
    "De acordo com o que vamos aumentando o K, os resultados se mostram de maior qualidade, isso se da pelo fato de termos maior ligação entre as palavras. O top-k documentos torna bem mais rápido a computação que nos mostra as palavras que estão mais relacionadas aquela determinada consulta."
   ]
  }
 ],
 "metadata": {
  "colab": {
   "collapsed_sections": [
    "McpHTjVVB5xA",
    "09vbHGYoCGMd",
    "vFlUTQuPCL1A",
    "80B4zI8HCPOG"
   ],
   "include_colab_link": true,
   "name": "expansao_consulta",
   "provenance": [],
   "version": "0.3.2"
  },
  "kernelspec": {
   "display_name": "Python 3",
   "language": "python",
   "name": "python3"
  },
  "language_info": {
   "codemirror_mode": {
    "name": "ipython",
    "version": 3
   },
   "file_extension": ".py",
   "mimetype": "text/x-python",
   "name": "python",
   "nbconvert_exporter": "python",
   "pygments_lexer": "ipython3",
   "version": "3.7.1"
  }
 },
 "nbformat": 4,
 "nbformat_minor": 1
}
